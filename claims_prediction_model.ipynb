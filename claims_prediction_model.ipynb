{
  "cells": [
    {
      "cell_type": "markdown",
      "metadata": {
        "id": "48S6RVt_jXwp"
      },
      "source": [
        "# AutoInland Vehicle Insurance Claim Challenge StarterNotebook - Python\n",
        "\n",
        "This is a simple starter notebook to get started with the AutoInland Vehicle Insurance Claim Challenge on Zindi.\n",
        "\n",
        "This notebook covers:\n",
        "- Loading the data\n",
        "- Simple EDA and an example of feature enginnering\n",
        "- Data preprocessing and data wrangling\n",
        "- Creating a simple model\n",
        "- Making a submission\n",
        "- Some tips for improving your score"
      ]
    },
    {
      "cell_type": "markdown",
      "metadata": {
        "id": "HdPjBTFdkI7t"
      },
      "source": [
        "### Importing libraries"
      ]
    },
    {
      "cell_type": "code",
      "execution_count": 15,
      "metadata": {
        "id": "8IWFJK2h22yc"
      },
      "outputs": [],
      "source": [
        "import pandas as pd\n",
        "import numpy as np\n",
        "import datetime as dt\n",
        "from tqdm.notebook import tqdm_notebook\n",
        "import seaborn as sns\n",
        "import matplotlib.pyplot as plt\n",
        "from sklearn.metrics import f1_score\n",
        "from lightgbm import LGBMClassifier\n",
        "from sklearn.model_selection import train_test_split\n",
        "import warnings\n",
        "warnings.filterwarnings('ignore')"
      ]
    },
    {
      "cell_type": "markdown",
      "metadata": {
        "id": "9SyQadB9iY8R"
      },
      "source": [
        "### Read files"
      ]
    },
    {
      "cell_type": "code",
      "execution_count": 16,
      "metadata": {
        "id": "MQCvC_XjDzyH"
      },
      "outputs": [],
      "source": [
        "# Load files into a pandas dataframe\n",
        "train = pd.read_csv('./data/Train.csv')\n",
        "test = pd.read_csv('./data/Test.csv')\n",
        "ss = pd.read_csv('./data/SampleSubmission.csv')"
      ]
    },
    {
      "cell_type": "markdown",
      "metadata": {
        "id": "MCP0H7tSicUU"
      },
      "source": [
        "### Some basic EDA"
      ]
    },
    {
      "cell_type": "code",
      "execution_count": 17,
      "metadata": {
        "colab": {
          "base_uri": "https://localhost:8080/",
          "height": 195
        },
        "id": "Mcqp5mXG22ye",
        "outputId": "a9326a6d-9ea2-4c91-d038-534cc1e4c64f"
      },
      "outputs": [
        {
          "data": {
            "text/html": [
              "<div>\n",
              "<style scoped>\n",
              "    .dataframe tbody tr th:only-of-type {\n",
              "        vertical-align: middle;\n",
              "    }\n",
              "\n",
              "    .dataframe tbody tr th {\n",
              "        vertical-align: top;\n",
              "    }\n",
              "\n",
              "    .dataframe thead th {\n",
              "        text-align: right;\n",
              "    }\n",
              "</style>\n",
              "<table border=\"1\" class=\"dataframe\">\n",
              "  <thead>\n",
              "    <tr style=\"text-align: right;\">\n",
              "      <th></th>\n",
              "      <th>ID</th>\n",
              "      <th>Policy Start Date</th>\n",
              "      <th>Policy End Date</th>\n",
              "      <th>Gender</th>\n",
              "      <th>Age</th>\n",
              "      <th>First Transaction Date</th>\n",
              "      <th>No_Pol</th>\n",
              "      <th>Car_Category</th>\n",
              "      <th>Subject_Car_Colour</th>\n",
              "      <th>Subject_Car_Make</th>\n",
              "      <th>LGA_Name</th>\n",
              "      <th>State</th>\n",
              "      <th>ProductName</th>\n",
              "      <th>target</th>\n",
              "    </tr>\n",
              "  </thead>\n",
              "  <tbody>\n",
              "    <tr>\n",
              "      <th>0</th>\n",
              "      <td>ID_0040R73</td>\n",
              "      <td>2010-05-14</td>\n",
              "      <td>2011-05-13</td>\n",
              "      <td>Male</td>\n",
              "      <td>30</td>\n",
              "      <td>2010-05-14</td>\n",
              "      <td>1</td>\n",
              "      <td>Saloon</td>\n",
              "      <td>Black</td>\n",
              "      <td>TOYOTA</td>\n",
              "      <td>NaN</td>\n",
              "      <td>NaN</td>\n",
              "      <td>Car Classic</td>\n",
              "      <td>0</td>\n",
              "    </tr>\n",
              "    <tr>\n",
              "      <th>1</th>\n",
              "      <td>ID_0046BNK</td>\n",
              "      <td>2010-11-29</td>\n",
              "      <td>2011-11-28</td>\n",
              "      <td>Female</td>\n",
              "      <td>79</td>\n",
              "      <td>2010-11-29</td>\n",
              "      <td>1</td>\n",
              "      <td>JEEP</td>\n",
              "      <td>Grey</td>\n",
              "      <td>TOYOTA</td>\n",
              "      <td>NaN</td>\n",
              "      <td>NaN</td>\n",
              "      <td>Car Classic</td>\n",
              "      <td>1</td>\n",
              "    </tr>\n",
              "    <tr>\n",
              "      <th>2</th>\n",
              "      <td>ID_005QMC3</td>\n",
              "      <td>2010-03-21</td>\n",
              "      <td>2011-03-20</td>\n",
              "      <td>Male</td>\n",
              "      <td>43</td>\n",
              "      <td>2010-03-21</td>\n",
              "      <td>1</td>\n",
              "      <td>Saloon</td>\n",
              "      <td>Red</td>\n",
              "      <td>TOYOTA</td>\n",
              "      <td>NaN</td>\n",
              "      <td>NaN</td>\n",
              "      <td>Car Classic</td>\n",
              "      <td>0</td>\n",
              "    </tr>\n",
              "    <tr>\n",
              "      <th>3</th>\n",
              "      <td>ID_0079OHW</td>\n",
              "      <td>2010-08-21</td>\n",
              "      <td>2011-08-20</td>\n",
              "      <td>Male</td>\n",
              "      <td>2</td>\n",
              "      <td>2010-08-21</td>\n",
              "      <td>1</td>\n",
              "      <td>NaN</td>\n",
              "      <td>NaN</td>\n",
              "      <td>NaN</td>\n",
              "      <td>NaN</td>\n",
              "      <td>NaN</td>\n",
              "      <td>CarSafe</td>\n",
              "      <td>0</td>\n",
              "    </tr>\n",
              "    <tr>\n",
              "      <th>4</th>\n",
              "      <td>ID_00BRP63</td>\n",
              "      <td>2010-08-29</td>\n",
              "      <td>2010-12-31</td>\n",
              "      <td>Entity</td>\n",
              "      <td>20</td>\n",
              "      <td>2010-08-29</td>\n",
              "      <td>3</td>\n",
              "      <td>NaN</td>\n",
              "      <td>NaN</td>\n",
              "      <td>NaN</td>\n",
              "      <td>Lagos</td>\n",
              "      <td>Lagos</td>\n",
              "      <td>Muuve</td>\n",
              "      <td>1</td>\n",
              "    </tr>\n",
              "  </tbody>\n",
              "</table>\n",
              "</div>"
            ],
            "text/plain": [
              "           ID Policy Start Date Policy End Date  Gender  Age  \\\n",
              "0  ID_0040R73        2010-05-14      2011-05-13    Male   30   \n",
              "1  ID_0046BNK        2010-11-29      2011-11-28  Female   79   \n",
              "2  ID_005QMC3        2010-03-21      2011-03-20    Male   43   \n",
              "3  ID_0079OHW        2010-08-21      2011-08-20    Male    2   \n",
              "4  ID_00BRP63        2010-08-29      2010-12-31  Entity   20   \n",
              "\n",
              "  First Transaction Date  No_Pol Car_Category Subject_Car_Colour  \\\n",
              "0             2010-05-14       1       Saloon              Black   \n",
              "1             2010-11-29       1         JEEP               Grey   \n",
              "2             2010-03-21       1       Saloon                Red   \n",
              "3             2010-08-21       1          NaN                NaN   \n",
              "4             2010-08-29       3          NaN                NaN   \n",
              "\n",
              "  Subject_Car_Make LGA_Name  State  ProductName  target  \n",
              "0           TOYOTA      NaN    NaN  Car Classic       0  \n",
              "1           TOYOTA      NaN    NaN  Car Classic       1  \n",
              "2           TOYOTA      NaN    NaN  Car Classic       0  \n",
              "3              NaN      NaN    NaN      CarSafe       0  \n",
              "4              NaN    Lagos  Lagos        Muuve       1  "
            ]
          },
          "execution_count": 17,
          "metadata": {},
          "output_type": "execute_result"
        }
      ],
      "source": [
        "# Preview the first five rows of the train set\n",
        "train.head()"
      ]
    },
    {
      "cell_type": "code",
      "execution_count": 18,
      "metadata": {
        "colab": {
          "base_uri": "https://localhost:8080/",
          "height": 279
        },
        "id": "XADqPrMo22yf",
        "outputId": "b389a03e-c9d5-40a5-886b-7317689c5eb8"
      },
      "outputs": [
        {
          "data": {
            "text/html": [
              "<div>\n",
              "<style scoped>\n",
              "    .dataframe tbody tr th:only-of-type {\n",
              "        vertical-align: middle;\n",
              "    }\n",
              "\n",
              "    .dataframe tbody tr th {\n",
              "        vertical-align: top;\n",
              "    }\n",
              "\n",
              "    .dataframe thead th {\n",
              "        text-align: right;\n",
              "    }\n",
              "</style>\n",
              "<table border=\"1\" class=\"dataframe\">\n",
              "  <thead>\n",
              "    <tr style=\"text-align: right;\">\n",
              "      <th></th>\n",
              "      <th>ID</th>\n",
              "      <th>Policy Start Date</th>\n",
              "      <th>Policy End Date</th>\n",
              "      <th>Gender</th>\n",
              "      <th>Age</th>\n",
              "      <th>First Transaction Date</th>\n",
              "      <th>No_Pol</th>\n",
              "      <th>Car_Category</th>\n",
              "      <th>Subject_Car_Colour</th>\n",
              "      <th>Subject_Car_Make</th>\n",
              "      <th>LGA_Name</th>\n",
              "      <th>State</th>\n",
              "      <th>ProductName</th>\n",
              "    </tr>\n",
              "  </thead>\n",
              "  <tbody>\n",
              "    <tr>\n",
              "      <th>0</th>\n",
              "      <td>ID_01QM0NU</td>\n",
              "      <td>2010-10-23</td>\n",
              "      <td>2011-10-22</td>\n",
              "      <td>Female</td>\n",
              "      <td>46</td>\n",
              "      <td>2010-10-23</td>\n",
              "      <td>1</td>\n",
              "      <td>NaN</td>\n",
              "      <td>NaN</td>\n",
              "      <td>Ford</td>\n",
              "      <td>Abuja Municipal</td>\n",
              "      <td>Abuja-Municipal</td>\n",
              "      <td>Car Classic</td>\n",
              "    </tr>\n",
              "    <tr>\n",
              "      <th>1</th>\n",
              "      <td>ID_024NJLZ</td>\n",
              "      <td>2010-10-14</td>\n",
              "      <td>2011-10-13</td>\n",
              "      <td>Male</td>\n",
              "      <td>32</td>\n",
              "      <td>2010-10-14</td>\n",
              "      <td>1</td>\n",
              "      <td>NaN</td>\n",
              "      <td>NaN</td>\n",
              "      <td>NaN</td>\n",
              "      <td>Kosofe</td>\n",
              "      <td>Benue</td>\n",
              "      <td>Car Classic</td>\n",
              "    </tr>\n",
              "    <tr>\n",
              "      <th>2</th>\n",
              "      <td>ID_02NOVWQ</td>\n",
              "      <td>2010-08-29</td>\n",
              "      <td>2011-08-28</td>\n",
              "      <td>Female</td>\n",
              "      <td>45</td>\n",
              "      <td>2010-08-29</td>\n",
              "      <td>2</td>\n",
              "      <td>Saloon</td>\n",
              "      <td>Black</td>\n",
              "      <td>Honda</td>\n",
              "      <td>Wuse 11</td>\n",
              "      <td>Abuja</td>\n",
              "      <td>Car Classic</td>\n",
              "    </tr>\n",
              "    <tr>\n",
              "      <th>3</th>\n",
              "      <td>ID_02VSP68</td>\n",
              "      <td>2010-06-13</td>\n",
              "      <td>2011-06-12</td>\n",
              "      <td>Female</td>\n",
              "      <td>58</td>\n",
              "      <td>2010-06-13</td>\n",
              "      <td>1</td>\n",
              "      <td>Saloon</td>\n",
              "      <td>NaN</td>\n",
              "      <td>TOYOTA</td>\n",
              "      <td>NaN</td>\n",
              "      <td>NaN</td>\n",
              "      <td>CarSafe</td>\n",
              "    </tr>\n",
              "    <tr>\n",
              "      <th>4</th>\n",
              "      <td>ID_02YB37K</td>\n",
              "      <td>2010-07-01</td>\n",
              "      <td>2011-06-30</td>\n",
              "      <td>NaN</td>\n",
              "      <td>120</td>\n",
              "      <td>2010-07-01</td>\n",
              "      <td>1</td>\n",
              "      <td>Saloon</td>\n",
              "      <td>Red</td>\n",
              "      <td>Hyundai</td>\n",
              "      <td>Victoria Island</td>\n",
              "      <td>Lagos</td>\n",
              "      <td>Car Classic</td>\n",
              "    </tr>\n",
              "  </tbody>\n",
              "</table>\n",
              "</div>"
            ],
            "text/plain": [
              "           ID Policy Start Date Policy End Date  Gender  Age  \\\n",
              "0  ID_01QM0NU        2010-10-23      2011-10-22  Female   46   \n",
              "1  ID_024NJLZ        2010-10-14      2011-10-13    Male   32   \n",
              "2  ID_02NOVWQ        2010-08-29      2011-08-28  Female   45   \n",
              "3  ID_02VSP68        2010-06-13      2011-06-12  Female   58   \n",
              "4  ID_02YB37K        2010-07-01      2011-06-30     NaN  120   \n",
              "\n",
              "  First Transaction Date  No_Pol Car_Category Subject_Car_Colour  \\\n",
              "0             2010-10-23       1          NaN                NaN   \n",
              "1             2010-10-14       1          NaN                NaN   \n",
              "2             2010-08-29       2       Saloon              Black   \n",
              "3             2010-06-13       1       Saloon                NaN   \n",
              "4             2010-07-01       1       Saloon                Red   \n",
              "\n",
              "  Subject_Car_Make         LGA_Name            State  ProductName  \n",
              "0             Ford  Abuja Municipal  Abuja-Municipal  Car Classic  \n",
              "1              NaN           Kosofe            Benue  Car Classic  \n",
              "2            Honda          Wuse 11            Abuja  Car Classic  \n",
              "3           TOYOTA              NaN              NaN      CarSafe  \n",
              "4          Hyundai  Victoria Island            Lagos  Car Classic  "
            ]
          },
          "execution_count": 18,
          "metadata": {},
          "output_type": "execute_result"
        }
      ],
      "source": [
        "# Preview the first five rows of the test set\n",
        "test.head()"
      ]
    },
    {
      "cell_type": "code",
      "execution_count": null,
      "metadata": {
        "colab": {
          "base_uri": "https://localhost:8080/",
          "height": 195
        },
        "id": "iwZ0JOrk22yg",
        "outputId": "7a878636-f3d2-4a1a-cd74-f8623474ceb0"
      },
      "outputs": [],
      "source": [
        "# Preview the first five rows of the sample submission file\n",
        "ss.head()"
      ]
    },
    {
      "cell_type": "code",
      "execution_count": null,
      "metadata": {
        "colab": {
          "base_uri": "https://localhost:8080/"
        },
        "id": "PpiShcfRIM58",
        "outputId": "a88f8506-d00c-4ba2-d8e5-055630d22a9a"
      },
      "outputs": [],
      "source": [
        "# Check the shape of the train and test sets\n",
        "print(f'The shape of the train set is: {train.shape}\\nThe shape of the test set is: {test.shape}')"
      ]
    },
    {
      "cell_type": "code",
      "execution_count": null,
      "metadata": {
        "colab": {
          "base_uri": "https://localhost:8080/",
          "height": 446
        },
        "id": "PXnqoSeVJT1w",
        "outputId": "2e408179-ff08-4286-db45-9353556faf50"
      },
      "outputs": [],
      "source": [
        "# Check if there any missing values in train set\n",
        "ax = train.isna().sum().sort_values().plot(kind = 'barh', figsize = (10, 7))\n",
        "plt.title('Percentage of Missing Values Per Column in Train Set', fontdict={'size':15})\n",
        "for p in ax.patches:\n",
        "    percentage ='{:,.0f}%'.format((p.get_width()/train.shape[0])*100)\n",
        "    width, height =p.get_width(),p.get_height()\n",
        "    x=p.get_x()+width+0.02\n",
        "    y=p.get_y()+height/2\n",
        "    ax.annotate(percentage,(x,y))"
      ]
    },
    {
      "cell_type": "code",
      "execution_count": 24,
      "metadata": {},
      "outputs": [
        {
          "data": {
            "text/plain": [
              "ID                        556\n",
              "Policy Start Date         556\n",
              "Policy End Date           556\n",
              "Gender                    534\n",
              "Age                       556\n",
              "First Transaction Date    556\n",
              "No_Pol                    556\n",
              "Car_Category              356\n",
              "Subject_Car_Colour        169\n",
              "Subject_Car_Make          429\n",
              "LGA_Name                  225\n",
              "State                     225\n",
              "ProductName               556\n",
              "target                    556\n",
              "dtype: int64"
            ]
          },
          "execution_count": 24,
          "metadata": {},
          "output_type": "execute_result"
        }
      ],
      "source": [
        "train[train['Age'] < 18]. count()"
      ]
    },
    {
      "cell_type": "code",
      "execution_count": 19,
      "metadata": {
        "colab": {
          "base_uri": "https://localhost:8080/",
          "height": 446
        },
        "id": "JvZQN_KMMhyH",
        "outputId": "b3e52142-44ed-4496-b5ef-21c58923f0b2"
      },
      "outputs": [
        {
          "data": {
            "image/png": "[encoded data removed]",
            "text/plain": [
              "<Figure size 1000x700 with 1 Axes>"
            ]
          },
          "metadata": {},
          "output_type": "display_data"
        }
      ],
      "source": [
        "# Check if there missing values in test set\n",
        "ax = test.isna().sum().sort_values().plot(kind = 'barh', figsize = (10, 7))\n",
        "plt.title('Percentage of Missing Values Per Column in Test Set', fontdict={'size':15})\n",
        "\n",
        "for p in ax.patches:\n",
        "    percentage ='{:,.1f}%'.format((p.get_width()/test.shape[0])*100)\n",
        "    width, height =p.get_width(),p.get_height()\n",
        "    x=p.get_x()+width+0.02\n",
        "    y=p.get_y()+height/2\n",
        "    ax.annotate(percentage,(x,y))"
      ]
    },
    {
      "cell_type": "markdown",
      "metadata": {
        "id": "oo9bQICy22yi"
      },
      "source": [
        "## Combine train and test set for easy preprocessing "
      ]
    },
    {
      "cell_type": "code",
      "execution_count": null,
      "metadata": {
        "colab": {
          "base_uri": "https://localhost:8080/"
        },
        "id": "LMBnOTvv22yi",
        "outputId": "aa3732b6-e781-409d-b36a-23a5f7d801e6"
      },
      "outputs": [],
      "source": [
        "# Combine train and test set\n",
        "ntrain = train.shape[0] # to be used to split train and test set from the combined dataframe\n",
        "\n",
        "all_data = pd.concat((train, test)).reset_index(drop=True)\n",
        "print(f'The shape of the combined dataframe is: {all_data.shape}')"
      ]
    },
    {
      "cell_type": "code",
      "execution_count": null,
      "metadata": {
        "colab": {
          "base_uri": "https://localhost:8080/",
          "height": 229
        },
        "id": "Enhuekp922yj",
        "outputId": "cbd3c921-fcc3-42f6-de2e-6cf9cc0b02b2"
      },
      "outputs": [],
      "source": [
        "# Preview the last five rows of the combined dataframe\n",
        "all_data.tail()"
      ]
    },
    {
      "cell_type": "code",
      "execution_count": null,
      "metadata": {
        "colab": {
          "base_uri": "https://localhost:8080/"
        },
        "id": "Zmhi38ur22yj",
        "outputId": "b70fdb83-6e8a-4d1d-c7e0-7461d6ef10ac"
      },
      "outputs": [],
      "source": [
        "# Check the column names and datatypes\n",
        "all_data.info()"
      ]
    },
    {
      "cell_type": "code",
      "execution_count": null,
      "metadata": {
        "colab": {
          "base_uri": "https://localhost:8080/"
        },
        "id": "lErcKRUdRPCu",
        "outputId": "e2ab033e-4485-4b7c-eabd-aa50184494ed"
      },
      "outputs": [],
      "source": [
        "# Change each column to its appriopriate datatype\n",
        "date_cols = [col for col in all_data.columns if 'Date' in col]\n",
        "num_cols = ['Age', 'No_Pol']\n",
        "cat_cols = [col for col in all_data.columns if col not in date_cols+num_cols+['ID', 'target']]\n",
        "\n",
        "for col in all_data.columns:\n",
        "  if col in date_cols:\n",
        "    all_data[col] = pd.to_datetime(all_data[col])\n",
        "  elif col in cat_cols:\n",
        "    all_data[col] = all_data[col].astype('category')\n",
        "\n",
        "# Confirm whether the changes have been applied successfully\n",
        "all_data.info()"
      ]
    },
    {
      "cell_type": "markdown",
      "metadata": {
        "id": "pL-uhhyKUHWw"
      },
      "source": [
        "### Distribution of the target variable"
      ]
    },
    {
      "cell_type": "code",
      "execution_count": null,
      "metadata": {
        "colab": {
          "base_uri": "https://localhost:8080/",
          "height": 296
        },
        "id": "lYzk7oDe22ym",
        "outputId": "230e7f80-d204-46b6-a66f-7dab63acef3b"
      },
      "outputs": [],
      "source": [
        "sns.countplot(train.target)\n",
        "plt.title('Target Distribution', fontdict={'size':14});"
      ]
    },
    {
      "cell_type": "markdown",
      "metadata": {
        "id": "feOHk7mRheOQ"
      },
      "source": [
        "### Distribution of the Gender column"
      ]
    },
    {
      "cell_type": "code",
      "execution_count": null,
      "metadata": {
        "colab": {
          "base_uri": "https://localhost:8080/",
          "height": 446
        },
        "id": "gLFQ8acB22yp",
        "outputId": "754f73d1-750f-4489-98a8-c4c874ab521f"
      },
      "outputs": [],
      "source": [
        "# Gender distribution \n",
        "ax = all_data.Gender.value_counts().sort_values().plot(kind = 'barh', figsize=(10,7))\n",
        "plt.title('Gender Distribution', fontdict={'size': 15})\n",
        "for p in ax.patches:\n",
        "  percentage ='{:,.1f}%'.format((p.get_width()/all_data.shape[0])*100)\n",
        "  width, height =p.get_width(),p.get_height()\n",
        "  x=p.get_x()+width+0.02\n",
        "  y=p.get_y()+height/2\n",
        "  ax.annotate(percentage,(x,y))"
      ]
    },
    {
      "cell_type": "code",
      "execution_count": null,
      "metadata": {
        "colab": {
          "base_uri": "https://localhost:8080/"
        },
        "id": "nialRZ4hWhMW",
        "outputId": "d0282bec-7dec-4c18-e90c-b86e9817dd7b"
      },
      "outputs": [],
      "source": [
        "mapper = {'Entity':'Other', 'Joint Gender':'Other', 'NOT STATED':'Other', 'NO GENDER': 'Other', 'SEX':\"Other\"}\n",
        "all_data.Gender = all_data.Gender.replace(mapper)\n",
        "\n",
        "# Confirm mappings\n",
        "all_data.Gender.value_counts()"
      ]
    },
    {
      "cell_type": "markdown",
      "metadata": {
        "id": "7rZ9LClahj5F"
      },
      "source": [
        "### Number of unique values per categorical column"
      ]
    },
    {
      "cell_type": "code",
      "execution_count": null,
      "metadata": {
        "colab": {
          "base_uri": "https://localhost:8080/"
        },
        "id": "rOd8usWw22yp",
        "outputId": "dd5e9ed1-c566-4ae5-d881-c9eb26ba28e9"
      },
      "outputs": [],
      "source": [
        "# Check unique values for each categorical column\n",
        "for col in cat_cols:\n",
        "  print(col)\n",
        "  print(all_data[col].unique(), '\\n')"
      ]
    },
    {
      "cell_type": "markdown",
      "metadata": {
        "id": "2akc9eF-hsWo"
      },
      "source": [
        "### Filling in missing values\n",
        "#### Missing values can be filled using different strategies\n",
        "Tips:\n",
        " - Mean\n",
        " - Max\n",
        " - Min\n",
        " - [sklearn SimpleImputer](https://scikit-learn.org/stable/modules/generated/sklearn.impute.SimpleImputer.html)\n",
        " - Others... do more reasearch"
      ]
    },
    {
      "cell_type": "code",
      "execution_count": null,
      "metadata": {
        "colab": {
          "base_uri": "https://localhost:8080/"
        },
        "id": "E61_c9DZYkuu",
        "outputId": "44b08ab0-3223-46f2-bc42-0a905a527883"
      },
      "outputs": [],
      "source": [
        "# Fill in missing values\n",
        "# For cat cols and date cols fill in with mode and for num cols fill in with 9999\n",
        "for col in all_data.columns:\n",
        "  if col in date_cols+cat_cols:\n",
        "    all_data[col] = all_data[col].fillna(all_data[col].mode()[0])\n",
        "  elif col in num_cols:\n",
        "    all_data[col] = all_data[col].fillna(all_data[col].fillna(9999))\n",
        "\n",
        "# Confirm that there aren't any missing values\n",
        "all_data[all_data.columns.difference(['target'])].isna().sum()"
      ]
    },
    {
      "cell_type": "markdown",
      "metadata": {
        "id": "Ppmv1kB5hvWs"
      },
      "source": [
        "### Feature Engineering\n",
        "#### Alot of features can be extracted from dates\n",
        "Tips:\n",
        " - Quarter, Start of Year, month?\n",
        " - Is it a weekend, weekday?\n",
        " - Is it a holiday\n",
        " - Duration between different periods, e.g start and end of a policy\n",
        " - What features can be derived from the age column\n",
        " - Be creative 😉"
      ]
    },
    {
      "cell_type": "code",
      "execution_count": null,
      "metadata": {
        "colab": {
          "base_uri": "https://localhost:8080/",
          "height": 333
        },
        "id": "3ELOMgf3awEe",
        "outputId": "ad661bb6-4718-455e-84d2-ead392ed00c7"
      },
      "outputs": [],
      "source": [
        "# Extract date features from the date columns\n",
        "for col in date_cols:\n",
        "  for date_feature in ['year', 'month', 'day']:\n",
        "    all_data[col+date_feature] = getattr(all_data[col].dt, date_feature)\n",
        "\n",
        "all_data.head()"
      ]
    },
    {
      "cell_type": "markdown",
      "metadata": {
        "id": "XOnSMk9im9EC"
      },
      "source": [
        "#### Try different strategies of dealing with categorical variables\n",
        "Tips:\n",
        " - One hot encoding\n",
        " - Label encoding\n",
        " - Target encoding\n",
        " - Reduce the number of unique values..."
      ]
    },
    {
      "cell_type": "code",
      "execution_count": null,
      "metadata": {
        "colab": {
          "base_uri": "https://localhost:8080/",
          "height": 362
        },
        "id": "hzZXqfvE22y9",
        "outputId": "422be2fb-2657-4d3a-c97a-5f81a2736170"
      },
      "outputs": [],
      "source": [
        "# Encode categorical features\n",
        "all_data = pd.get_dummies(data = all_data, columns = cat_cols)\n",
        "all_data.head()"
      ]
    },
    {
      "cell_type": "code",
      "execution_count": null,
      "metadata": {
        "colab": {
          "base_uri": "https://localhost:8080/"
        },
        "id": "BibprFWLdRAy",
        "outputId": "f48a22bd-dee0-4be3-e103-ffc34bb43b62"
      },
      "outputs": [],
      "source": [
        "# Separate train and test data from the combined dataframe\n",
        "train_df = all_data[:ntrain]\n",
        "test_df = all_data[ntrain:]\n",
        "\n",
        "# Check the shapes of the split dataset\n",
        "train_df.shape, test_df.shape"
      ]
    },
    {
      "cell_type": "markdown",
      "metadata": {
        "id": "Rv9axjwXh2Ij"
      },
      "source": [
        "### Training and making predictions\n",
        "Tips:\n",
        "- Is lgbm the best model for this challenge?\n",
        "- Parameter tuning\n",
        " - Grid search, random search, perhaps bayesian search works better...\n",
        "\n"
      ]
    },
    {
      "cell_type": "code",
      "execution_count": null,
      "metadata": {
        "colab": {
          "base_uri": "https://localhost:8080/"
        },
        "id": "w0EL1Fk222y-",
        "outputId": "7c5142f0-8ed0-4a67-a5da-e930abe0b8f7"
      },
      "outputs": [],
      "source": [
        "# Select main columns to be used in training\n",
        "main_cols = all_data.columns.difference(date_cols+['ID', 'target'])\n",
        "X = train_df[main_cols]\n",
        "y = train_df.target\n",
        "\n",
        "# Split data into train and test sets\n",
        "X_train, X_test, y_train, y_test = train_test_split(X,y,test_size=0.3, random_state=42)\n",
        "\n",
        "# Train model\n",
        "model = LGBMClassifier()\n",
        "model.fit(X_train, y_train)\n",
        "\n",
        "# Make predictions\n",
        "y_pred = model.predict(X_test)\n",
        "\n",
        "# Check the f1 score of the model\n",
        "print(f'F1 score on the X_test is: {f1_score(y_test, y_pred)}')"
      ]
    },
    {
      "cell_type": "markdown",
      "metadata": {
        "id": "WZ6h0Ho3qOCV"
      },
      "source": [
        "#### [More on F1 Score](https://en.wikipedia.org/wiki/F-score)"
      ]
    },
    {
      "cell_type": "markdown",
      "metadata": {
        "id": "k_LHEtrph7Kk"
      },
      "source": [
        "### Making predictions of the test set and creating a submission file"
      ]
    },
    {
      "cell_type": "code",
      "execution_count": null,
      "metadata": {
        "colab": {
          "base_uri": "https://localhost:8080/",
          "height": 265
        },
        "id": "OP8EX6NZfSCP",
        "outputId": "cfdc1bfb-8f7a-40b3-9a6a-6613b7b3193b"
      },
      "outputs": [],
      "source": [
        "# Make prediction on the test set\n",
        "test_df = test_df[main_cols]\n",
        "predictions = model.predict(test_df)\n",
        "\n",
        "# Create a submission file\n",
        "sub_file = ss.copy()\n",
        "sub_file.predictions = predictions\n",
        "\n",
        "# Check the distribution of your predictions\n",
        "sns.countplot(sub_file.predictions);"
      ]
    },
    {
      "cell_type": "code",
      "execution_count": null,
      "metadata": {
        "id": "sm_jTS4022y-"
      },
      "outputs": [],
      "source": [
        "# Create a csv file and upload to zindi \n",
        "sub_file.to_csv('Baseline.csv', index = False)"
      ]
    },
    {
      "cell_type": "markdown",
      "metadata": {
        "id": "ttQqWBi722zE"
      },
      "source": [
        "###More Tips\n",
        "- Thorough EDA and domain knowledge sourcing\n",
        "- Re-group Categorical features \n",
        "- More Feature Engineering \n",
        "- Dataset balancing - oversampling, undersampling, SMOTE...\n",
        "- Ensembling of models \n",
        "- Cross-validation: Group folds, Stratified..."
      ]
    },
    {
      "cell_type": "markdown",
      "metadata": {
        "id": "uXftXbo622zF"
      },
      "source": [
        "# ******************* GOOD LUCK!!! ***************************"
      ]
    },
    {
      "cell_type": "code",
      "execution_count": 14,
      "metadata": {},
      "outputs": [
        {
          "ename": "ModuleNotFoundError",
          "evalue": "No module named 'catboost'",
          "output_type": "error",
          "traceback": [
            "\u001b[31m---------------------------------------------------------------------------\u001b[39m",
            "\u001b[31mModuleNotFoundError\u001b[39m                       Traceback (most recent call last)",
            "\u001b[36mCell\u001b[39m\u001b[36m \u001b[39m\u001b[32mIn[14]\u001b[39m\u001b[32m, line 24\u001b[39m\n\u001b[32m     22\u001b[39m \u001b[38;5;28;01mfrom\u001b[39;00m\u001b[38;5;250m \u001b[39m\u001b[34;01mlightgbm\u001b[39;00m\u001b[38;5;250m \u001b[39m\u001b[38;5;28;01mimport\u001b[39;00m LGBMClassifier\n\u001b[32m     23\u001b[39m \u001b[38;5;28;01mfrom\u001b[39;00m\u001b[38;5;250m \u001b[39m\u001b[34;01mxgboost\u001b[39;00m\u001b[38;5;250m \u001b[39m\u001b[38;5;28;01mimport\u001b[39;00m XGBClassifier\n\u001b[32m---> \u001b[39m\u001b[32m24\u001b[39m \u001b[38;5;28;01mfrom\u001b[39;00m\u001b[38;5;250m \u001b[39m\u001b[34;01mcatboost\u001b[39;00m\u001b[38;5;250m \u001b[39m\u001b[38;5;28;01mimport\u001b[39;00m CatBoostClassifier\n\u001b[32m     25\u001b[39m \u001b[38;5;28;01mfrom\u001b[39;00m\u001b[38;5;250m \u001b[39m\u001b[34;01msklearn\u001b[39;00m\u001b[34;01m.\u001b[39;00m\u001b[34;01mensemble\u001b[39;00m\u001b[38;5;250m \u001b[39m\u001b[38;5;28;01mimport\u001b[39;00m RandomForestClassifier, VotingClassifier\n",
            "\u001b[31mModuleNotFoundError\u001b[39m: No module named 'catboost'"
          ]
        }
      ],
      "source": [
        "import pandas as pd\n",
        "import numpy as np\n",
        "import matplotlib.pyplot as plt\n",
        "import seaborn as sns\n",
        "from datetime import datetime\n",
        "import warnings\n",
        "warnings.filterwarnings('ignore')\n",
        "\n",
        "# For data preprocessing\n",
        "from sklearn.preprocessing import StandardScaler, OneHotEncoder\n",
        "from sklearn.impute import SimpleImputer\n",
        "from sklearn.compose import ColumnTransformer\n",
        "from sklearn.pipeline import Pipeline\n",
        "\n",
        "# For modeling\n",
        "from sklearn.model_selection import train_test_split, StratifiedKFold, cross_val_score, GridSearchCV\n",
        "from sklearn.metrics import f1_score, classification_report, confusion_matrix\n",
        "from imblearn.over_sampling import SMOTE\n",
        "from imblearn.pipeline import Pipeline as ImbPipeline\n",
        "\n",
        "# Models\n",
        "from lightgbm import LGBMClassifier\n",
        "from xgboost import XGBClassifier\n",
        "from catboost import CatBoostClassifier\n",
        "from sklearn.ensemble import RandomForestClassifier, VotingClassifier"
      ]
    },
    {
      "cell_type": "code",
      "execution_count": null,
      "metadata": {},
      "outputs": [
        {
          "ename": "ModuleNotFoundError",
          "evalue": "No module named 'xgboost'",
          "output_type": "error",
          "traceback": [
            "\u001b[31m---------------------------------------------------------------------------\u001b[39m",
            "\u001b[31mModuleNotFoundError\u001b[39m                       Traceback (most recent call last)",
            "\u001b[36mCell\u001b[39m\u001b[36m \u001b[39m\u001b[32mIn[12]\u001b[39m\u001b[32m, line 23\u001b[39m\n\u001b[32m     21\u001b[39m \u001b[38;5;66;03m# Models\u001b[39;00m\n\u001b[32m     22\u001b[39m \u001b[38;5;28;01mfrom\u001b[39;00m\u001b[38;5;250m \u001b[39m\u001b[34;01mlightgbm\u001b[39;00m\u001b[38;5;250m \u001b[39m\u001b[38;5;28;01mimport\u001b[39;00m LGBMClassifier\n\u001b[32m---> \u001b[39m\u001b[32m23\u001b[39m \u001b[38;5;28;01mfrom\u001b[39;00m\u001b[38;5;250m \u001b[39m\u001b[34;01mxgboost\u001b[39;00m\u001b[38;5;250m \u001b[39m\u001b[38;5;28;01mimport\u001b[39;00m XGBClassifier\n\u001b[32m     24\u001b[39m \u001b[38;5;28;01mfrom\u001b[39;00m\u001b[38;5;250m \u001b[39m\u001b[34;01mcatboost\u001b[39;00m\u001b[38;5;250m \u001b[39m\u001b[38;5;28;01mimport\u001b[39;00m CatBoostClassifier\n\u001b[32m     25\u001b[39m \u001b[38;5;28;01mfrom\u001b[39;00m\u001b[38;5;250m \u001b[39m\u001b[34;01msklearn\u001b[39;00m\u001b[34;01m.\u001b[39;00m\u001b[34;01mensemble\u001b[39;00m\u001b[38;5;250m \u001b[39m\u001b[38;5;28;01mimport\u001b[39;00m RandomForestClassifier, VotingClassifier\n",
            "\u001b[31mModuleNotFoundError\u001b[39m: No module named 'xgboost'"
          ]
        }
      ],
      "source": [
        "\n",
        "# Load data\n",
        "print(\"Loading data...\")\n",
        "train = pd.read_csv('./data/Train.csv')\n",
        "test = pd.read_csv('./data/Test.csv')\n",
        "sample_submission = pd.read_csv('./data/SampleSubmission.csv')\n",
        "\n",
        "# Display info\n",
        "print(f\"Train shape: {train.shape}\")\n",
        "print(f\"Test shape: {test.shape}\")\n",
        "\n",
        "# Combine datasets for preprocessing\n",
        "train['is_train'] = 1\n",
        "test['is_train'] = 0\n",
        "test['target'] = -1  # Placeholder for test set\n",
        "combined = pd.concat([train, test], axis=0, ignore_index=True)\n",
        "\n",
        "# Check missing values\n",
        "print(\"\\nMissing values before imputation:\")\n",
        "print(combined.isnull().sum().sort_values(ascending=False))\n",
        "\n",
        "# Feature Engineering\n",
        "print(\"\\nPerforming feature engineering...\")\n",
        "\n",
        "# Convert date columns to datetime\n",
        "date_cols = [col for col in combined.columns if 'Date' in col]\n",
        "for col in date_cols:\n",
        "    combined[col] = pd.to_datetime(combined[col], errors='coerce')\n",
        "\n",
        "# Extract date features\n",
        "for col in date_cols:\n",
        "    # Basic date components\n",
        "    combined[f'{col}_year'] = combined[col].dt.year\n",
        "    combined[f'{col}_month'] = combined[col].dt.month\n",
        "    combined[f'{col}_day'] = combined[col].dt.day\n",
        "    combined[f'{col}_dayofweek'] = combined[col].dt.dayofweek\n",
        "    combined[f'{col}_quarter'] = combined[col].dt.quarter\n",
        "    \n",
        "    # Is weekend\n",
        "    combined[f'{col}_is_weekend'] = combined[col].dt.dayofweek.isin([5, 6]).astype(int)\n",
        "\n",
        "# Calculate policy duration in days\n",
        "combined['policy_duration'] = (combined['Policy End Date'] - combined['Policy Start Date']).dt.days\n",
        "\n",
        "# Calculate days since first transaction\n",
        "combined['days_since_first_transaction'] = (combined['Policy Start Date'] - combined['First Transaction Date']).dt.days\n",
        "\n",
        "# Age groups\n",
        "combined['age_group'] = pd.cut(combined['Age'], \n",
        "                               bins=[0, 25, 35, 45, 55, 65, 100], \n",
        "                               labels=['<25', '25-35', '35-45', '45-55', '55-65', '65+'])\n",
        "\n",
        "# Clean and transform categorical features\n",
        "print(\"\\nHandling categorical features...\")\n",
        "\n",
        "# Gender cleaning\n",
        "gender_mapping = {\n",
        "    'Entity': 'Other', \n",
        "    'Joint Gender': 'Other', \n",
        "    'NOT STATED': 'Unknown', \n",
        "    'NO GENDER': 'Unknown', \n",
        "    'SEX': 'Unknown'\n",
        "}\n",
        "combined['Gender'] = combined['Gender'].replace(gender_mapping)\n",
        "\n",
        "# No_Pol groups\n",
        "combined['No_Pol_group'] = pd.cut(combined['No_Pol'], \n",
        "                                 bins=[0, 1, 3, 5, 10, float('inf')], \n",
        "                                 labels=['Single', '2-3', '4-5', '6-10', '10+'])\n",
        "\n",
        "# Identify categorical columns\n",
        "cat_cols = combined.select_dtypes(include=['object', 'category']).columns.tolist()\n",
        "cat_cols.append('age_group')\n",
        "cat_cols.append('No_Pol_group')\n",
        "cat_cols = [x for x in cat_cols if x not in ['ID', 'target'] + date_cols]\n",
        "\n",
        "# Identify numerical columns  \n",
        "num_cols = ['Age', 'No_Pol', 'policy_duration', 'days_since_first_transaction']\n",
        "num_cols.extend([col for col in combined.columns if ('_year' in col or '_month' in col or \n",
        "                                                   '_day' in col or '_dayofweek' in col or \n",
        "                                                   '_quarter' in col or '_is_weekend' in col)])\n",
        "\n",
        "# Handle missing values\n",
        "print(\"\\nHandling missing values...\")\n",
        "# For numerical columns use median\n",
        "for col in num_cols:\n",
        "    if combined[col].isnull().any():\n",
        "        combined[col] = combined[col].fillna(combined[col].median())\n",
        "\n",
        "# For categorical columns use mode\n",
        "for col in cat_cols:\n",
        "    if combined[col].isnull().any():\n",
        "        combined[col] = combined[col].fillna(combined[col].mode()[0])\n",
        "\n",
        "# Check for high cardinality categories\n",
        "print(\"\\nCategorical feature cardinality:\")\n",
        "for col in cat_cols:\n",
        "    print(f\"{col}: {combined[col].nunique()} unique values\")\n",
        "\n",
        "# Frequency encode high-cardinality categorical features\n",
        "high_card_cols = [col for col in cat_cols if combined[col].nunique() > 10]\n",
        "for col in high_card_cols:\n",
        "    freq_map = combined[col].value_counts(normalize=True).to_dict()\n",
        "    combined[f'{col}_freq'] = combined[col].map(freq_map)\n",
        "    num_cols.append(f'{col}_freq')\n",
        "\n",
        "# Split back into train and test\n",
        "train_processed = combined[combined['is_train'] == 1].drop('is_train', axis=1)\n",
        "test_processed = combined[combined['is_train'] == 0].drop(['is_train', 'target'], axis=1)\n",
        "\n",
        "# Drop date columns which we've extracted features from\n",
        "train_processed = train_processed.drop(date_cols, axis=1)\n",
        "test_processed = test_processed.drop(date_cols, axis=1)\n",
        "\n",
        "# Define features and target\n",
        "X = train_processed.drop(['ID', 'target'], axis=1)\n",
        "y = train_processed['target']\n",
        "X_test = test_processed.drop(['ID'], axis=1)\n",
        "\n",
        "# Get updated cat_cols (excluding any we've dropped)\n",
        "cat_cols = [col for col in cat_cols if col in X.columns]\n",
        "num_cols = [col for col in num_cols if col in X.columns]\n",
        "\n",
        "print(f\"\\nFeatures: {X.shape[1]} columns\")\n",
        "print(f\"Categorical: {len(cat_cols)} columns\")\n",
        "print(f\"Numerical: {len(num_cols)} columns\")\n",
        "\n",
        "# Check target distribution\n",
        "print(\"\\nTarget distribution:\")\n",
        "print(y.value_counts(normalize=True))\n",
        "\n",
        "# Create preprocessor\n",
        "preprocessor = ColumnTransformer(\n",
        "    transformers=[\n",
        "        ('num', Pipeline([\n",
        "            ('imputer', SimpleImputer(strategy='median')),\n",
        "            ('scaler', StandardScaler())\n",
        "        ]), num_cols),\n",
        "        ('cat', Pipeline([\n",
        "            ('imputer', SimpleImputer(strategy='most_frequent')),\n",
        "            ('onehot', OneHotEncoder(handle_unknown='ignore', sparse_output=False))\n",
        "        ]), cat_cols)\n",
        "    ],\n",
        "    remainder='passthrough'\n",
        ")\n",
        "\n",
        "# Split data\n",
        "X_train, X_val, y_train, y_val = train_test_split(X, y, test_size=0.2, random_state=42, stratify=y)\n",
        "\n",
        "# Define models\n",
        "print(\"\\nTraining models...\")\n",
        "\n",
        "# Create a stratified k-fold object\n",
        "skf = StratifiedKFold(n_splits=5, shuffle=True, random_state=42)\n",
        "\n",
        "# Train LightGBM model with SMOTE\n",
        "print(\"Training LightGBM model...\")\n",
        "lgbm_pipeline = ImbPipeline([\n",
        "    ('preprocessor', preprocessor),\n",
        "    ('smote', SMOTE(random_state=42)),\n",
        "    ('classifier', LGBMClassifier(\n",
        "        n_estimators=500,\n",
        "        learning_rate=0.05,\n",
        "        max_depth=7,\n",
        "        num_leaves=31,\n",
        "        min_child_samples=20,\n",
        "        subsample=0.8,\n",
        "        colsample_bytree=0.8,\n",
        "        reg_alpha=0.1,\n",
        "        reg_lambda=0.1,\n",
        "        random_state=42,\n",
        "        class_weight='balanced',\n",
        "        n_jobs=-1\n",
        "    ))\n",
        "])\n",
        "\n",
        "# Fit the pipeline\n",
        "lgbm_pipeline.fit(X_train, y_train)\n",
        "\n",
        "# Make predictions on validation set\n",
        "y_val_pred_lgbm = lgbm_pipeline.predict(X_val)\n",
        "\n",
        "# Evaluate model\n",
        "val_f1_lgbm = f1_score(y_val, y_val_pred_lgbm)\n",
        "print(f\"LightGBM Validation F1 Score: {val_f1_lgbm:.4f}\")\n",
        "print(classification_report(y_val, y_val_pred_lgbm))\n",
        "\n",
        "# Train XGBoost model\n",
        "print(\"\\nTraining XGBoost model...\")\n",
        "xgb_pipeline = ImbPipeline([\n",
        "    ('preprocessor', preprocessor),\n",
        "    ('smote', SMOTE(random_state=42)),\n",
        "    ('classifier', XGBClassifier(\n",
        "        n_estimators=200,\n",
        "        learning_rate=0.1,\n",
        "        max_depth=5,\n",
        "        min_child_weight=1,\n",
        "        gamma=0,\n",
        "        subsample=0.8,\n",
        "        colsample_bytree=0.8,\n",
        "        scale_pos_weight=1,\n",
        "        random_state=42,\n",
        "        n_jobs=-1\n",
        "    ))\n",
        "])\n",
        "\n",
        "# Fit the pipeline\n",
        "xgb_pipeline.fit(X_train, y_train)\n",
        "\n",
        "# Make predictions on validation set\n",
        "y_val_pred_xgb = xgb_pipeline.predict(X_val)\n",
        "\n",
        "# Evaluate model\n",
        "val_f1_xgb = f1_score(y_val, y_val_pred_xgb)\n",
        "print(f\"XGBoost Validation F1 Score: {val_f1_xgb:.4f}\")\n",
        "print(classification_report(y_val, y_val_pred_xgb))\n",
        "\n",
        "# Create an ensemble model\n",
        "print(\"\\nCreating ensemble model...\")\n",
        "ensemble = VotingClassifier(estimators=[\n",
        "    ('lgbm', lgbm_pipeline.named_steps['classifier']),\n",
        "    ('xgb', xgb_pipeline.named_steps['classifier'])\n",
        "], voting='soft')\n",
        "\n",
        "# We need to preprocess and apply SMOTE before ensemble\n",
        "X_train_prep = preprocessor.fit_transform(X_train)\n",
        "X_val_prep = preprocessor.transform(X_val)\n",
        "X_test_prep = preprocessor.transform(X_test)\n",
        "\n",
        "# Apply SMOTE\n",
        "smote = SMOTE(random_state=42)\n",
        "X_train_smote, y_train_smote = smote.fit_resample(X_train_prep, y_train)\n",
        "\n",
        "# Train ensemble\n",
        "ensemble.fit(X_train_smote, y_train_smote)\n",
        "\n",
        "# Make predictions\n",
        "y_val_pred_ensemble = ensemble.predict(X_val_prep)\n",
        "val_f1_ensemble = f1_score(y_val, y_val_pred_ensemble)\n",
        "print(f\"Ensemble Validation F1 Score: {val_f1_ensemble:.4f}\")\n",
        "print(classification_report(y_val, y_val_pred_ensemble))\n",
        "\n",
        "# Choose the best model\n",
        "best_model_name = max([('lgbm', val_f1_lgbm), ('xgb', val_f1_xgb), ('ensemble', val_f1_ensemble)], key=lambda x: x[1])[0]\n",
        "print(f\"\\nBest model: {best_model_name}\")\n",
        "\n",
        "# Make predictions on test set with the best model\n",
        "if best_model_name == 'lgbm':\n",
        "    test_preds = lgbm_pipeline.predict(X_test)\n",
        "elif best_model_name == 'xgb':\n",
        "    test_preds = xgb_pipeline.predict(X_test)\n",
        "else:\n",
        "    test_preds = ensemble.predict(X_test_prep)\n",
        "\n",
        "# Create submission file\n",
        "submission = pd.DataFrame({\n",
        "    'ID': test_processed['ID'],\n",
        "    'target': test_preds\n",
        "})\n",
        "\n",
        "# Save the submission file\n",
        "submission.to_csv('improved_submission.csv', index=False)\n",
        "print(\"\\nSubmission file created: improved_submission.csv\")\n",
        "\n",
        "# Feature importance for LGBM (if it's the best model)\n",
        "if best_model_name == 'lgbm':\n",
        "    print(\"\\nTop 20 features by importance (LGBM):\")\n",
        "    lgbm_model = lgbm_pipeline.named_steps['classifier']\n",
        "    feature_names = num_cols + cat_cols  # This is simplified, actual feature names after preprocessing would be different\n",
        "    feature_importance = pd.DataFrame({\n",
        "        'feature': feature_names,\n",
        "        'importance': lgbm_model.feature_importances_\n",
        "    })\n",
        "    feature_importance = feature_importance.sort_values('importance', ascending=False).head(20)\n",
        "    print(feature_importance)"
      ]
    },
    {
      "cell_type": "code",
      "execution_count": null,
      "metadata": {},
      "outputs": [],
      "source": [
        "import sys\n",
        "print(sys.executable)\n"
      ]
    },
    {
      "cell_type": "code",
      "execution_count": null,
      "metadata": {},
      "outputs": [],
      "source": [
        "python -m ipykernel install --user --name=venv --display-name \"Python (venv)\"\n"
      ]
    },
    {
      "cell_type": "code",
      "execution_count": null,
      "metadata": {},
      "outputs": [],
      "source": [
        "import sys\n",
        "print(sys.path)\n"
      ]
    }
  ],
  "metadata": {
    "colab": {
      "collapsed_sections": [],
      "name": "AXA-Python_StarterNotebook.ipynb",
      "provenance": []
    },
    "kernelspec": {
      "display_name": "venv",
      "language": "python",
      "name": "python3"
    },
    "language_info": {
      "codemirror_mode": {
        "name": "ipython",
        "version": 3
      },
      "file_extension": ".py",
      "mimetype": "text/x-python",
      "name": "python",
      "nbconvert_exporter": "python",
      "pygments_lexer": "ipython3",
      "version": "3.13.2"
    }
  },
  "nbformat": 4,
  "nbformat_minor": 0
}

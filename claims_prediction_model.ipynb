{
  "cells": [
    {
      "cell_type": "markdown",
      "metadata": {
        "id": "48S6RVt_jXwp"
      },
      "source": [
        "# AutoInland Vehicle Insurance Claim Challenge StarterNotebook - Python\n",
        "\n",
        "This is a simple starter notebook to get started with the AutoInland Vehicle Insurance Claim Challenge on Zindi.\n",
        "\n",
        "This notebook covers:\n",
        "- Loading the data\n",
        "- Simple EDA and an example of feature enginnering\n",
        "- Data preprocessing and data wrangling\n",
        "- Creating a simple model\n",
        "- Making a submission\n",
        "- Some tips for improving your score"
      ]
    },
    {
      "cell_type": "markdown",
      "metadata": {
        "id": "HdPjBTFdkI7t"
      },
      "source": [
        "### Importing libraries"
      ]
    },
    {
      "cell_type": "code",
      "execution_count": 46,
      "metadata": {
        "id": "8IWFJK2h22yc"
      },
      "outputs": [],
      "source": [
        "import pandas as pd\n",
        "import numpy as np\n",
        "import datetime as dt\n",
        "from tqdm.notebook import tqdm_notebook\n",
        "import seaborn as sns\n",
        "import matplotlib.pyplot as plt\n",
        "from sklearn.metrics import f1_score\n",
        "from  sklearn.ensemble import RandomForestClassifier\n",
        "from lightgbm import LGBMClassifier\n",
        "from sklearn.model_selection import train_test_split\n",
        "import warnings\n",
        "warnings.filterwarnings('ignore')"
      ]
    },
    {
      "cell_type": "markdown",
      "metadata": {
        "id": "9SyQadB9iY8R"
      },
      "source": [
        "### Read files"
      ]
    },
    {
      "cell_type": "code",
      "execution_count": 25,
      "metadata": {
        "id": "MQCvC_XjDzyH"
      },
      "outputs": [],
      "source": [
        "# Load files into a pandas dataframe\n",
        "train = pd.read_csv('./data/Train.csv')\n",
        "test = pd.read_csv('./data/Test.csv')\n",
        "ss = pd.read_csv('./data/SampleSubmission.csv')"
      ]
    },
    {
      "cell_type": "markdown",
      "metadata": {
        "id": "MCP0H7tSicUU"
      },
      "source": [
        "### Some basic EDA"
      ]
    },
    {
      "cell_type": "code",
      "execution_count": 26,
      "metadata": {
        "colab": {
          "base_uri": "https://localhost:8080/",
          "height": 195
        },
        "id": "Mcqp5mXG22ye",
        "outputId": "a9326a6d-9ea2-4c91-d038-534cc1e4c64f"
      },
      "outputs": [
        {
          "data": {
            "text/html": [
              "<div>\n",
              "<style scoped>\n",
              "    .dataframe tbody tr th:only-of-type {\n",
              "        vertical-align: middle;\n",
              "    }\n",
              "\n",
              "    .dataframe tbody tr th {\n",
              "        vertical-align: top;\n",
              "    }\n",
              "\n",
              "    .dataframe thead th {\n",
              "        text-align: right;\n",
              "    }\n",
              "</style>\n",
              "<table border=\"1\" class=\"dataframe\">\n",
              "  <thead>\n",
              "    <tr style=\"text-align: right;\">\n",
              "      <th></th>\n",
              "      <th>ID</th>\n",
              "      <th>Policy Start Date</th>\n",
              "      <th>Policy End Date</th>\n",
              "      <th>Gender</th>\n",
              "      <th>Age</th>\n",
              "      <th>First Transaction Date</th>\n",
              "      <th>No_Pol</th>\n",
              "      <th>Car_Category</th>\n",
              "      <th>Subject_Car_Colour</th>\n",
              "      <th>Subject_Car_Make</th>\n",
              "      <th>LGA_Name</th>\n",
              "      <th>State</th>\n",
              "      <th>ProductName</th>\n",
              "      <th>target</th>\n",
              "    </tr>\n",
              "  </thead>\n",
              "  <tbody>\n",
              "    <tr>\n",
              "      <th>0</th>\n",
              "      <td>ID_0040R73</td>\n",
              "      <td>2010-05-14</td>\n",
              "      <td>2011-05-13</td>\n",
              "      <td>Male</td>\n",
              "      <td>30</td>\n",
              "      <td>2010-05-14</td>\n",
              "      <td>1</td>\n",
              "      <td>Saloon</td>\n",
              "      <td>Black</td>\n",
              "      <td>TOYOTA</td>\n",
              "      <td>NaN</td>\n",
              "      <td>NaN</td>\n",
              "      <td>Car Classic</td>\n",
              "      <td>0</td>\n",
              "    </tr>\n",
              "    <tr>\n",
              "      <th>1</th>\n",
              "      <td>ID_0046BNK</td>\n",
              "      <td>2010-11-29</td>\n",
              "      <td>2011-11-28</td>\n",
              "      <td>Female</td>\n",
              "      <td>79</td>\n",
              "      <td>2010-11-29</td>\n",
              "      <td>1</td>\n",
              "      <td>JEEP</td>\n",
              "      <td>Grey</td>\n",
              "      <td>TOYOTA</td>\n",
              "      <td>NaN</td>\n",
              "      <td>NaN</td>\n",
              "      <td>Car Classic</td>\n",
              "      <td>1</td>\n",
              "    </tr>\n",
              "    <tr>\n",
              "      <th>2</th>\n",
              "      <td>ID_005QMC3</td>\n",
              "      <td>2010-03-21</td>\n",
              "      <td>2011-03-20</td>\n",
              "      <td>Male</td>\n",
              "      <td>43</td>\n",
              "      <td>2010-03-21</td>\n",
              "      <td>1</td>\n",
              "      <td>Saloon</td>\n",
              "      <td>Red</td>\n",
              "      <td>TOYOTA</td>\n",
              "      <td>NaN</td>\n",
              "      <td>NaN</td>\n",
              "      <td>Car Classic</td>\n",
              "      <td>0</td>\n",
              "    </tr>\n",
              "    <tr>\n",
              "      <th>3</th>\n",
              "      <td>ID_0079OHW</td>\n",
              "      <td>2010-08-21</td>\n",
              "      <td>2011-08-20</td>\n",
              "      <td>Male</td>\n",
              "      <td>2</td>\n",
              "      <td>2010-08-21</td>\n",
              "      <td>1</td>\n",
              "      <td>NaN</td>\n",
              "      <td>NaN</td>\n",
              "      <td>NaN</td>\n",
              "      <td>NaN</td>\n",
              "      <td>NaN</td>\n",
              "      <td>CarSafe</td>\n",
              "      <td>0</td>\n",
              "    </tr>\n",
              "    <tr>\n",
              "      <th>4</th>\n",
              "      <td>ID_00BRP63</td>\n",
              "      <td>2010-08-29</td>\n",
              "      <td>2010-12-31</td>\n",
              "      <td>Entity</td>\n",
              "      <td>20</td>\n",
              "      <td>2010-08-29</td>\n",
              "      <td>3</td>\n",
              "      <td>NaN</td>\n",
              "      <td>NaN</td>\n",
              "      <td>NaN</td>\n",
              "      <td>Lagos</td>\n",
              "      <td>Lagos</td>\n",
              "      <td>Muuve</td>\n",
              "      <td>1</td>\n",
              "    </tr>\n",
              "  </tbody>\n",
              "</table>\n",
              "</div>"
            ],
            "text/plain": [
              "           ID Policy Start Date Policy End Date  Gender  Age  \\\n",
              "0  ID_0040R73        2010-05-14      2011-05-13    Male   30   \n",
              "1  ID_0046BNK        2010-11-29      2011-11-28  Female   79   \n",
              "2  ID_005QMC3        2010-03-21      2011-03-20    Male   43   \n",
              "3  ID_0079OHW        2010-08-21      2011-08-20    Male    2   \n",
              "4  ID_00BRP63        2010-08-29      2010-12-31  Entity   20   \n",
              "\n",
              "  First Transaction Date  No_Pol Car_Category Subject_Car_Colour  \\\n",
              "0             2010-05-14       1       Saloon              Black   \n",
              "1             2010-11-29       1         JEEP               Grey   \n",
              "2             2010-03-21       1       Saloon                Red   \n",
              "3             2010-08-21       1          NaN                NaN   \n",
              "4             2010-08-29       3          NaN                NaN   \n",
              "\n",
              "  Subject_Car_Make LGA_Name  State  ProductName  target  \n",
              "0           TOYOTA      NaN    NaN  Car Classic       0  \n",
              "1           TOYOTA      NaN    NaN  Car Classic       1  \n",
              "2           TOYOTA      NaN    NaN  Car Classic       0  \n",
              "3              NaN      NaN    NaN      CarSafe       0  \n",
              "4              NaN    Lagos  Lagos        Muuve       1  "
            ]
          },
          "execution_count": 26,
          "metadata": {},
          "output_type": "execute_result"
        }
      ],
      "source": [
        "# Preview the first five rows of the train set\n",
        "train.head()"
      ]
    },
    {
      "cell_type": "code",
      "execution_count": 27,
      "metadata": {
        "colab": {
          "base_uri": "https://localhost:8080/",
          "height": 279
        },
        "id": "XADqPrMo22yf",
        "outputId": "b389a03e-c9d5-40a5-886b-7317689c5eb8"
      },
      "outputs": [
        {
          "data": {
            "text/html": [
              "<div>\n",
              "<style scoped>\n",
              "    .dataframe tbody tr th:only-of-type {\n",
              "        vertical-align: middle;\n",
              "    }\n",
              "\n",
              "    .dataframe tbody tr th {\n",
              "        vertical-align: top;\n",
              "    }\n",
              "\n",
              "    .dataframe thead th {\n",
              "        text-align: right;\n",
              "    }\n",
              "</style>\n",
              "<table border=\"1\" class=\"dataframe\">\n",
              "  <thead>\n",
              "    <tr style=\"text-align: right;\">\n",
              "      <th></th>\n",
              "      <th>ID</th>\n",
              "      <th>Policy Start Date</th>\n",
              "      <th>Policy End Date</th>\n",
              "      <th>Gender</th>\n",
              "      <th>Age</th>\n",
              "      <th>First Transaction Date</th>\n",
              "      <th>No_Pol</th>\n",
              "      <th>Car_Category</th>\n",
              "      <th>Subject_Car_Colour</th>\n",
              "      <th>Subject_Car_Make</th>\n",
              "      <th>LGA_Name</th>\n",
              "      <th>State</th>\n",
              "      <th>ProductName</th>\n",
              "    </tr>\n",
              "  </thead>\n",
              "  <tbody>\n",
              "    <tr>\n",
              "      <th>0</th>\n",
              "      <td>ID_01QM0NU</td>\n",
              "      <td>2010-10-23</td>\n",
              "      <td>2011-10-22</td>\n",
              "      <td>Female</td>\n",
              "      <td>46</td>\n",
              "      <td>2010-10-23</td>\n",
              "      <td>1</td>\n",
              "      <td>NaN</td>\n",
              "      <td>NaN</td>\n",
              "      <td>Ford</td>\n",
              "      <td>Abuja Municipal</td>\n",
              "      <td>Abuja-Municipal</td>\n",
              "      <td>Car Classic</td>\n",
              "    </tr>\n",
              "    <tr>\n",
              "      <th>1</th>\n",
              "      <td>ID_024NJLZ</td>\n",
              "      <td>2010-10-14</td>\n",
              "      <td>2011-10-13</td>\n",
              "      <td>Male</td>\n",
              "      <td>32</td>\n",
              "      <td>2010-10-14</td>\n",
              "      <td>1</td>\n",
              "      <td>NaN</td>\n",
              "      <td>NaN</td>\n",
              "      <td>NaN</td>\n",
              "      <td>Kosofe</td>\n",
              "      <td>Benue</td>\n",
              "      <td>Car Classic</td>\n",
              "    </tr>\n",
              "    <tr>\n",
              "      <th>2</th>\n",
              "      <td>ID_02NOVWQ</td>\n",
              "      <td>2010-08-29</td>\n",
              "      <td>2011-08-28</td>\n",
              "      <td>Female</td>\n",
              "      <td>45</td>\n",
              "      <td>2010-08-29</td>\n",
              "      <td>2</td>\n",
              "      <td>Saloon</td>\n",
              "      <td>Black</td>\n",
              "      <td>Honda</td>\n",
              "      <td>Wuse 11</td>\n",
              "      <td>Abuja</td>\n",
              "      <td>Car Classic</td>\n",
              "    </tr>\n",
              "    <tr>\n",
              "      <th>3</th>\n",
              "      <td>ID_02VSP68</td>\n",
              "      <td>2010-06-13</td>\n",
              "      <td>2011-06-12</td>\n",
              "      <td>Female</td>\n",
              "      <td>58</td>\n",
              "      <td>2010-06-13</td>\n",
              "      <td>1</td>\n",
              "      <td>Saloon</td>\n",
              "      <td>NaN</td>\n",
              "      <td>TOYOTA</td>\n",
              "      <td>NaN</td>\n",
              "      <td>NaN</td>\n",
              "      <td>CarSafe</td>\n",
              "    </tr>\n",
              "    <tr>\n",
              "      <th>4</th>\n",
              "      <td>ID_02YB37K</td>\n",
              "      <td>2010-07-01</td>\n",
              "      <td>2011-06-30</td>\n",
              "      <td>NaN</td>\n",
              "      <td>120</td>\n",
              "      <td>2010-07-01</td>\n",
              "      <td>1</td>\n",
              "      <td>Saloon</td>\n",
              "      <td>Red</td>\n",
              "      <td>Hyundai</td>\n",
              "      <td>Victoria Island</td>\n",
              "      <td>Lagos</td>\n",
              "      <td>Car Classic</td>\n",
              "    </tr>\n",
              "  </tbody>\n",
              "</table>\n",
              "</div>"
            ],
            "text/plain": [
              "           ID Policy Start Date Policy End Date  Gender  Age  \\\n",
              "0  ID_01QM0NU        2010-10-23      2011-10-22  Female   46   \n",
              "1  ID_024NJLZ        2010-10-14      2011-10-13    Male   32   \n",
              "2  ID_02NOVWQ        2010-08-29      2011-08-28  Female   45   \n",
              "3  ID_02VSP68        2010-06-13      2011-06-12  Female   58   \n",
              "4  ID_02YB37K        2010-07-01      2011-06-30     NaN  120   \n",
              "\n",
              "  First Transaction Date  No_Pol Car_Category Subject_Car_Colour  \\\n",
              "0             2010-10-23       1          NaN                NaN   \n",
              "1             2010-10-14       1          NaN                NaN   \n",
              "2             2010-08-29       2       Saloon              Black   \n",
              "3             2010-06-13       1       Saloon                NaN   \n",
              "4             2010-07-01       1       Saloon                Red   \n",
              "\n",
              "  Subject_Car_Make         LGA_Name            State  ProductName  \n",
              "0             Ford  Abuja Municipal  Abuja-Municipal  Car Classic  \n",
              "1              NaN           Kosofe            Benue  Car Classic  \n",
              "2            Honda          Wuse 11            Abuja  Car Classic  \n",
              "3           TOYOTA              NaN              NaN      CarSafe  \n",
              "4          Hyundai  Victoria Island            Lagos  Car Classic  "
            ]
          },
          "execution_count": 27,
          "metadata": {},
          "output_type": "execute_result"
        }
      ],
      "source": [
        "# Preview the first five rows of the test set\n",
        "test.head()"
      ]
    },
    {
      "cell_type": "code",
      "execution_count": 28,
      "metadata": {
        "colab": {
          "base_uri": "https://localhost:8080/",
          "height": 195
        },
        "id": "iwZ0JOrk22yg",
        "outputId": "7a878636-f3d2-4a1a-cd74-f8623474ceb0"
      },
      "outputs": [
        {
          "data": {
            "text/html": [
              "<div>\n",
              "<style scoped>\n",
              "    .dataframe tbody tr th:only-of-type {\n",
              "        vertical-align: middle;\n",
              "    }\n",
              "\n",
              "    .dataframe tbody tr th {\n",
              "        vertical-align: top;\n",
              "    }\n",
              "\n",
              "    .dataframe thead th {\n",
              "        text-align: right;\n",
              "    }\n",
              "</style>\n",
              "<table border=\"1\" class=\"dataframe\">\n",
              "  <thead>\n",
              "    <tr style=\"text-align: right;\">\n",
              "      <th></th>\n",
              "      <th>ID</th>\n",
              "      <th>target</th>\n",
              "    </tr>\n",
              "  </thead>\n",
              "  <tbody>\n",
              "    <tr>\n",
              "      <th>0</th>\n",
              "      <td>ID_01QM0NU</td>\n",
              "      <td>0</td>\n",
              "    </tr>\n",
              "    <tr>\n",
              "      <th>1</th>\n",
              "      <td>ID_024NJLZ</td>\n",
              "      <td>0</td>\n",
              "    </tr>\n",
              "    <tr>\n",
              "      <th>2</th>\n",
              "      <td>ID_02NOVWQ</td>\n",
              "      <td>0</td>\n",
              "    </tr>\n",
              "    <tr>\n",
              "      <th>3</th>\n",
              "      <td>ID_02VSP68</td>\n",
              "      <td>0</td>\n",
              "    </tr>\n",
              "    <tr>\n",
              "      <th>4</th>\n",
              "      <td>ID_02YB37K</td>\n",
              "      <td>0</td>\n",
              "    </tr>\n",
              "  </tbody>\n",
              "</table>\n",
              "</div>"
            ],
            "text/plain": [
              "           ID  target\n",
              "0  ID_01QM0NU       0\n",
              "1  ID_024NJLZ       0\n",
              "2  ID_02NOVWQ       0\n",
              "3  ID_02VSP68       0\n",
              "4  ID_02YB37K       0"
            ]
          },
          "execution_count": 28,
          "metadata": {},
          "output_type": "execute_result"
        }
      ],
      "source": [
        "# Preview the first five rows of the sample submission file\n",
        "ss.head()"
      ]
    },
    {
      "cell_type": "code",
      "execution_count": 29,
      "metadata": {
        "colab": {
          "base_uri": "https://localhost:8080/"
        },
        "id": "PpiShcfRIM58",
        "outputId": "a88f8506-d00c-4ba2-d8e5-055630d22a9a"
      },
      "outputs": [
        {
          "name": "stdout",
          "output_type": "stream",
          "text": [
            "The shape of the train set is: (12079, 14)\n",
            "The shape of the test set is: (1202, 13)\n"
          ]
        }
      ],
      "source": [
        "# Check the shape of the train and test sets\n",
        "print(f'The shape of the train set is: {train.shape}\\nThe shape of the test set is: {test.shape}')"
      ]
    },
    {
      "cell_type": "code",
      "execution_count": 30,
      "metadata": {
        "colab": {
          "base_uri": "https://localhost:8080/",
          "height": 446
        },
        "id": "PXnqoSeVJT1w",
        "outputId": "2e408179-ff08-4286-db45-9353556faf50"
      },
      "outputs": [
        {
          "data": {
            "image/png": "[encoded data removed]",
            "text/plain": [
              "<Figure size 1000x700 with 1 Axes>"
            ]
          },
          "metadata": {},
          "output_type": "display_data"
        }
      ],
      "source": [
        "# Check if there any missing values in train set\n",
        "ax = train.isna().sum().sort_values().plot(kind = 'barh', figsize = (10, 7))\n",
        "plt.title('Percentage of Missing Values Per Column in Train Set', fontdict={'size':15})\n",
        "for p in ax.patches:\n",
        "    percentage ='{:,.0f}%'.format((p.get_width()/train.shape[0])*100)\n",
        "    width, height =p.get_width(),p.get_height()\n",
        "    x=p.get_x()+width+0.02\n",
        "    y=p.get_y()+height/2\n",
        "    ax.annotate(percentage,(x,y))"
      ]
    },
    {
      "cell_type": "code",
      "execution_count": 31,
      "metadata": {},
      "outputs": [
        {
          "data": {
            "text/plain": [
              "ID                        556\n",
              "Policy Start Date         556\n",
              "Policy End Date           556\n",
              "Gender                    534\n",
              "Age                       556\n",
              "First Transaction Date    556\n",
              "No_Pol                    556\n",
              "Car_Category              356\n",
              "Subject_Car_Colour        169\n",
              "Subject_Car_Make          429\n",
              "LGA_Name                  225\n",
              "State                     225\n",
              "ProductName               556\n",
              "target                    556\n",
              "dtype: int64"
            ]
          },
          "execution_count": 31,
          "metadata": {},
          "output_type": "execute_result"
        }
      ],
      "source": [
        "train[train['Age'] < 18]. count()"
      ]
    },
    {
      "cell_type": "code",
      "execution_count": 32,
      "metadata": {
        "colab": {
          "base_uri": "https://localhost:8080/",
          "height": 446
        },
        "id": "JvZQN_KMMhyH",
        "outputId": "b3e52142-44ed-4496-b5ef-21c58923f0b2"
      },
      "outputs": [
        {
          "data": {
            "image/png": "[encoded data removed]",
            "text/plain": [
              "<Figure size 1000x700 with 1 Axes>"
            ]
          },
          "metadata": {},
          "output_type": "display_data"
        }
      ],
      "source": [
        "# Check if there missing values in test set\n",
        "ax = test.isna().sum().sort_values().plot(kind = 'barh', figsize = (10, 7))\n",
        "plt.title('Percentage of Missing Values Per Column in Test Set', fontdict={'size':15})\n",
        "\n",
        "for p in ax.patches:\n",
        "    percentage ='{:,.1f}%'.format((p.get_width()/test.shape[0])*100)\n",
        "    width, height =p.get_width(),p.get_height()\n",
        "    x=p.get_x()+width+0.02\n",
        "    y=p.get_y()+height/2\n",
        "    ax.annotate(percentage,(x,y))"
      ]
    },
    {
      "cell_type": "markdown",
      "metadata": {
        "id": "oo9bQICy22yi"
      },
      "source": [
        "## Combine train and test set for easy preprocessing "
      ]
    },
    {
      "cell_type": "code",
      "execution_count": 33,
      "metadata": {
        "colab": {
          "base_uri": "https://localhost:8080/"
        },
        "id": "LMBnOTvv22yi",
        "outputId": "aa3732b6-e781-409d-b36a-23a5f7d801e6"
      },
      "outputs": [
        {
          "name": "stdout",
          "output_type": "stream",
          "text": [
            "The shape of the combined dataframe is: (13281, 14)\n"
          ]
        }
      ],
      "source": [
        "# Combine train and test set\n",
        "ntrain = train.shape[0] # to be used to split train and test set from the combined dataframe\n",
        "\n",
        "all_data = pd.concat((train, test)).reset_index(drop=True)\n",
        "print(f'The shape of the combined dataframe is: {all_data.shape}')"
      ]
    },
    {
      "cell_type": "code",
      "execution_count": 34,
      "metadata": {
        "colab": {
          "base_uri": "https://localhost:8080/",
          "height": 229
        },
        "id": "Enhuekp922yj",
        "outputId": "cbd3c921-fcc3-42f6-de2e-6cf9cc0b02b2"
      },
      "outputs": [
        {
          "data": {
            "text/html": [
              "<div>\n",
              "<style scoped>\n",
              "    .dataframe tbody tr th:only-of-type {\n",
              "        vertical-align: middle;\n",
              "    }\n",
              "\n",
              "    .dataframe tbody tr th {\n",
              "        vertical-align: top;\n",
              "    }\n",
              "\n",
              "    .dataframe thead th {\n",
              "        text-align: right;\n",
              "    }\n",
              "</style>\n",
              "<table border=\"1\" class=\"dataframe\">\n",
              "  <thead>\n",
              "    <tr style=\"text-align: right;\">\n",
              "      <th></th>\n",
              "      <th>ID</th>\n",
              "      <th>Policy Start Date</th>\n",
              "      <th>Policy End Date</th>\n",
              "      <th>Gender</th>\n",
              "      <th>Age</th>\n",
              "      <th>First Transaction Date</th>\n",
              "      <th>No_Pol</th>\n",
              "      <th>Car_Category</th>\n",
              "      <th>Subject_Car_Colour</th>\n",
              "      <th>Subject_Car_Make</th>\n",
              "      <th>LGA_Name</th>\n",
              "      <th>State</th>\n",
              "      <th>ProductName</th>\n",
              "      <th>target</th>\n",
              "    </tr>\n",
              "  </thead>\n",
              "  <tbody>\n",
              "    <tr>\n",
              "      <th>13276</th>\n",
              "      <td>ID_ZTTHC5X</td>\n",
              "      <td>2010-12-05</td>\n",
              "      <td>2011-12-04</td>\n",
              "      <td>Male</td>\n",
              "      <td>67</td>\n",
              "      <td>2010-12-05</td>\n",
              "      <td>2</td>\n",
              "      <td>JEEP</td>\n",
              "      <td>Black</td>\n",
              "      <td>TOYOTA</td>\n",
              "      <td>Victoria Island</td>\n",
              "      <td>Lagos</td>\n",
              "      <td>Car Classic</td>\n",
              "      <td>NaN</td>\n",
              "    </tr>\n",
              "    <tr>\n",
              "      <th>13277</th>\n",
              "      <td>ID_ZUJAFUP</td>\n",
              "      <td>2010-01-14</td>\n",
              "      <td>2011-01-13</td>\n",
              "      <td>Male</td>\n",
              "      <td>43</td>\n",
              "      <td>2010-01-14</td>\n",
              "      <td>1</td>\n",
              "      <td>Saloon</td>\n",
              "      <td>Silver</td>\n",
              "      <td>Hyundai</td>\n",
              "      <td>Surulere</td>\n",
              "      <td>Lagos</td>\n",
              "      <td>Car Classic</td>\n",
              "      <td>NaN</td>\n",
              "    </tr>\n",
              "    <tr>\n",
              "      <th>13278</th>\n",
              "      <td>ID_ZWHCTUM</td>\n",
              "      <td>2010-07-26</td>\n",
              "      <td>2011-07-25</td>\n",
              "      <td>Male</td>\n",
              "      <td>30</td>\n",
              "      <td>2010-07-26</td>\n",
              "      <td>1</td>\n",
              "      <td>Truck</td>\n",
              "      <td>White</td>\n",
              "      <td>Iveco</td>\n",
              "      <td>Victoria Island</td>\n",
              "      <td>Lagos</td>\n",
              "      <td>CVTP</td>\n",
              "      <td>NaN</td>\n",
              "    </tr>\n",
              "    <tr>\n",
              "      <th>13279</th>\n",
              "      <td>ID_ZWQRL8L</td>\n",
              "      <td>2010-02-16</td>\n",
              "      <td>2011-02-15</td>\n",
              "      <td>Male</td>\n",
              "      <td>44</td>\n",
              "      <td>2010-02-16</td>\n",
              "      <td>2</td>\n",
              "      <td>Saloon</td>\n",
              "      <td>NaN</td>\n",
              "      <td>Nissan</td>\n",
              "      <td>Aba North</td>\n",
              "      <td>Aba-North</td>\n",
              "      <td>Car Classic</td>\n",
              "      <td>NaN</td>\n",
              "    </tr>\n",
              "    <tr>\n",
              "      <th>13280</th>\n",
              "      <td>ID_ZWZ92GU</td>\n",
              "      <td>2010-03-18</td>\n",
              "      <td>2011-03-17</td>\n",
              "      <td>Male</td>\n",
              "      <td>28</td>\n",
              "      <td>2010-03-18</td>\n",
              "      <td>1</td>\n",
              "      <td>Saloon</td>\n",
              "      <td>Silver</td>\n",
              "      <td>TOYOTA</td>\n",
              "      <td>NaN</td>\n",
              "      <td>NaN</td>\n",
              "      <td>Car Classic</td>\n",
              "      <td>NaN</td>\n",
              "    </tr>\n",
              "  </tbody>\n",
              "</table>\n",
              "</div>"
            ],
            "text/plain": [
              "               ID Policy Start Date Policy End Date Gender  Age  \\\n",
              "13276  ID_ZTTHC5X        2010-12-05      2011-12-04   Male   67   \n",
              "13277  ID_ZUJAFUP        2010-01-14      2011-01-13   Male   43   \n",
              "13278  ID_ZWHCTUM        2010-07-26      2011-07-25   Male   30   \n",
              "13279  ID_ZWQRL8L        2010-02-16      2011-02-15   Male   44   \n",
              "13280  ID_ZWZ92GU        2010-03-18      2011-03-17   Male   28   \n",
              "\n",
              "      First Transaction Date  No_Pol Car_Category Subject_Car_Colour  \\\n",
              "13276             2010-12-05       2         JEEP              Black   \n",
              "13277             2010-01-14       1       Saloon             Silver   \n",
              "13278             2010-07-26       1        Truck              White   \n",
              "13279             2010-02-16       2       Saloon                NaN   \n",
              "13280             2010-03-18       1       Saloon             Silver   \n",
              "\n",
              "      Subject_Car_Make         LGA_Name      State  ProductName  target  \n",
              "13276           TOYOTA  Victoria Island      Lagos  Car Classic     NaN  \n",
              "13277          Hyundai         Surulere      Lagos  Car Classic     NaN  \n",
              "13278            Iveco  Victoria Island      Lagos         CVTP     NaN  \n",
              "13279           Nissan        Aba North  Aba-North  Car Classic     NaN  \n",
              "13280           TOYOTA              NaN        NaN  Car Classic     NaN  "
            ]
          },
          "execution_count": 34,
          "metadata": {},
          "output_type": "execute_result"
        }
      ],
      "source": [
        "# Preview the last five rows of the combined dataframe\n",
        "all_data.tail()"
      ]
    },
    {
      "cell_type": "code",
      "execution_count": 35,
      "metadata": {
        "colab": {
          "base_uri": "https://localhost:8080/"
        },
        "id": "Zmhi38ur22yj",
        "outputId": "b70fdb83-6e8a-4d1d-c7e0-7461d6ef10ac"
      },
      "outputs": [
        {
          "name": "stdout",
          "output_type": "stream",
          "text": [
            "<class 'pandas.core.frame.DataFrame'>\n",
            "RangeIndex: 13281 entries, 0 to 13280\n",
            "Data columns (total 14 columns):\n",
            " #   Column                  Non-Null Count  Dtype  \n",
            "---  ------                  --------------  -----  \n",
            " 0   ID                      13281 non-null  object \n",
            " 1   Policy Start Date       13281 non-null  object \n",
            " 2   Policy End Date         13281 non-null  object \n",
            " 3   Gender                  12881 non-null  object \n",
            " 4   Age                     13281 non-null  int64  \n",
            " 5   First Transaction Date  13281 non-null  object \n",
            " 6   No_Pol                  13281 non-null  int64  \n",
            " 7   Car_Category            9171 non-null   object \n",
            " 8   Subject_Car_Colour      5622 non-null   object \n",
            " 9   Subject_Car_Make        10557 non-null  object \n",
            " 10  LGA_Name                6149 non-null   object \n",
            " 11  State                   6137 non-null   object \n",
            " 12  ProductName             13281 non-null  object \n",
            " 13  target                  12079 non-null  float64\n",
            "dtypes: float64(1), int64(2), object(11)\n",
            "memory usage: 1.4+ MB\n"
          ]
        }
      ],
      "source": [
        "# Check the column names and datatypes\n",
        "all_data.info()"
      ]
    },
    {
      "cell_type": "code",
      "execution_count": 36,
      "metadata": {
        "colab": {
          "base_uri": "https://localhost:8080/"
        },
        "id": "lErcKRUdRPCu",
        "outputId": "e2ab033e-4485-4b7c-eabd-aa50184494ed"
      },
      "outputs": [
        {
          "name": "stdout",
          "output_type": "stream",
          "text": [
            "<class 'pandas.core.frame.DataFrame'>\n",
            "RangeIndex: 13281 entries, 0 to 13280\n",
            "Data columns (total 14 columns):\n",
            " #   Column                  Non-Null Count  Dtype         \n",
            "---  ------                  --------------  -----         \n",
            " 0   ID                      13281 non-null  object        \n",
            " 1   Policy Start Date       13281 non-null  datetime64[ns]\n",
            " 2   Policy End Date         13281 non-null  datetime64[ns]\n",
            " 3   Gender                  12881 non-null  category      \n",
            " 4   Age                     13281 non-null  int64         \n",
            " 5   First Transaction Date  13281 non-null  datetime64[ns]\n",
            " 6   No_Pol                  13281 non-null  int64         \n",
            " 7   Car_Category            9171 non-null   category      \n",
            " 8   Subject_Car_Colour      5622 non-null   category      \n",
            " 9   Subject_Car_Make        10557 non-null  category      \n",
            " 10  LGA_Name                6149 non-null   category      \n",
            " 11  State                   6137 non-null   category      \n",
            " 12  ProductName             13281 non-null  category      \n",
            " 13  target                  12079 non-null  float64       \n",
            "dtypes: category(7), datetime64[ns](3), float64(1), int64(2), object(1)\n",
            "memory usage: 850.8+ KB\n"
          ]
        }
      ],
      "source": [
        "# Change each column to its appriopriate datatype\n",
        "date_cols = [col for col in all_data.columns if 'Date' in col]\n",
        "num_cols = ['Age', 'No_Pol']\n",
        "cat_cols = [col for col in all_data.columns if col not in date_cols+num_cols+['ID', 'target']]\n",
        "\n",
        "for col in all_data.columns:\n",
        "  if col in date_cols:\n",
        "    all_data[col] = pd.to_datetime(all_data[col])\n",
        "  elif col in cat_cols:\n",
        "    all_data[col] = all_data[col].astype('category')\n",
        "\n",
        "# Confirm whether the changes have been applied successfully\n",
        "all_data.info()"
      ]
    },
    {
      "cell_type": "markdown",
      "metadata": {
        "id": "pL-uhhyKUHWw"
      },
      "source": [
        "### Distribution of the target variable"
      ]
    },
    {
      "cell_type": "code",
      "execution_count": 23,
      "metadata": {
        "colab": {
          "base_uri": "https://localhost:8080/",
          "height": 296
        },
        "id": "lYzk7oDe22ym",
        "outputId": "230e7f80-d204-46b6-a66f-7dab63acef3b"
      },
      "outputs": [
        {
          "data": {
            "image/png": "[encoded data removed]",
            "text/plain": [
              "<Figure size 640x480 with 1 Axes>"
            ]
          },
          "metadata": {},
          "output_type": "display_data"
        }
      ],
      "source": [
        "sns.countplot(train.target)\n",
        "plt.title('Target Distribution', fontdict={'size':14});"
      ]
    },
    {
      "cell_type": "markdown",
      "metadata": {
        "id": "feOHk7mRheOQ"
      },
      "source": [
        "### Distribution of the Gender column"
      ]
    },
    {
      "cell_type": "code",
      "execution_count": 37,
      "metadata": {
        "colab": {
          "base_uri": "https://localhost:8080/",
          "height": 446
        },
        "id": "gLFQ8acB22yp",
        "outputId": "754f73d1-750f-4489-98a8-c4c874ab521f"
      },
      "outputs": [
        {
          "data": {
            "image/png": "[encoded data removed]",
            "text/plain": [
              "<Figure size 1000x700 with 1 Axes>"
            ]
          },
          "metadata": {},
          "output_type": "display_data"
        }
      ],
      "source": [
        "# Gender distribution \n",
        "ax = all_data.Gender.value_counts().sort_values().plot(kind = 'barh', figsize=(10,7))\n",
        "plt.title('Gender Distribution', fontdict={'size': 15})\n",
        "for p in ax.patches:\n",
        "  percentage ='{:,.1f}%'.format((p.get_width()/all_data.shape[0])*100)\n",
        "  width, height =p.get_width(),p.get_height()\n",
        "  x=p.get_x()+width+0.02\n",
        "  y=p.get_y()+height/2\n",
        "  ax.annotate(percentage,(x,y))"
      ]
    },
    {
      "cell_type": "code",
      "execution_count": 38,
      "metadata": {
        "colab": {
          "base_uri": "https://localhost:8080/"
        },
        "id": "nialRZ4hWhMW",
        "outputId": "d0282bec-7dec-4c18-e90c-b86e9817dd7b"
      },
      "outputs": [
        {
          "data": {
            "text/plain": [
              "Gender\n",
              "Male      8356\n",
              "Female    3679\n",
              "Other      846\n",
              "Name: count, dtype: int64"
            ]
          },
          "execution_count": 38,
          "metadata": {},
          "output_type": "execute_result"
        }
      ],
      "source": [
        "mapper = {'Entity':'Other', 'Joint Gender':'Other', 'NOT STATED':'Other', 'NO GENDER': 'Other', 'SEX':\"Other\"}\n",
        "all_data.Gender = all_data.Gender.replace(mapper)\n",
        "\n",
        "# Confirm mappings\n",
        "all_data.Gender.value_counts()"
      ]
    },
    {
      "cell_type": "markdown",
      "metadata": {
        "id": "7rZ9LClahj5F"
      },
      "source": [
        "### Number of unique values per categorical column"
      ]
    },
    {
      "cell_type": "code",
      "execution_count": 39,
      "metadata": {
        "colab": {
          "base_uri": "https://localhost:8080/"
        },
        "id": "rOd8usWw22yp",
        "outputId": "dd5e9ed1-c566-4ae5-d881-c9eb26ba28e9"
      },
      "outputs": [
        {
          "name": "stdout",
          "output_type": "stream",
          "text": [
            "Gender\n",
            "['Male', 'Female', 'Other', NaN]\n",
            "Categories (3, object): ['Other', 'Female', 'Male'] \n",
            "\n",
            "Car_Category\n",
            "['Saloon', 'JEEP', NaN, 'Motorcycle', 'Truck', ..., 'Wagon', 'Shape Of Vehicle Chasis', 'Sedan', 'Station 4 Wheel', 'Tipper Truck']\n",
            "Length: 17\n",
            "Categories (16, object): ['Bus', 'CAMRY CAR HIRE', 'JEEP', 'Mini Bus', ..., 'Tipper Truck', 'Truck', 'Van', 'Wagon'] \n",
            "\n",
            "Subject_Car_Colour\n",
            "['Black', 'Grey', 'Red', NaN, 'As Attached', ..., 'Yellow & White', 'Beige Mitalic', 'Light Gray', 'Blue Sky', 'Red Maroon']\n",
            "Length: 47\n",
            "Categories (46, object): ['As Attached', 'Ash', 'B.Silver', 'Beige Mitalic', ..., 'White & Yellow', 'Wine', 'Yellow', 'Yellow & White'] \n",
            "\n",
            "Subject_Car_Make\n",
            "['TOYOTA', NaN, 'REXTON', 'Lexus', 'Hyundai', ..., 'BRILLIANCE', 'Buik', 'COMMANDER', 'Bajaj', 'Datsun']\n",
            "Length: 76\n",
            "Categories (75, object): ['.', 'ABG', 'ACURA', 'As Attached', ..., 'Volvo', 'Wrangler Jeep', 'Yamaha', 'ZOYTE'] \n",
            "\n",
            "LGA_Name\n",
            "[NaN, 'Lagos', 'Ikeja', 'Badagry', 'Eti-Osa', ..., 'Hong', 'Ifako-Agege', 'Benue', 'Okpokwu', 'Ngor-Okpala']\n",
            "Length: 271\n",
            "Categories (270, object): [' IFAKO', 'ABULE EGBA', 'AGBARA', 'AJAO ESTATE', ..., 'Yorro', 'Zaria', 'Zaria ', 'kumbotso'] \n",
            "\n",
            "State\n",
            "[NaN, 'Lagos', 'Benue', 'Eti-Osa', 'Delta', ..., 'ENUGU-SOUTH', 'Ijebu-North', 'Asari-Toru', 'Idemili-south', 'Ngor-Okpala']\n",
            "Length: 114\n",
            "Categories (113, object): ['ABULE-EGBA', 'AJAO-ESTATE', 'Aba-North', 'Aba-South', ..., 'Umuahia-South', 'Warri-Central', 'Warri-North', 'Warri-South'] \n",
            "\n",
            "ProductName\n",
            "['Car Classic', 'CarSafe', 'Muuve', 'CVTP', 'Car Plus', 'Motor Cycle', 'Customized Motor', 'CarFlex', 'Car Vintage']\n",
            "Categories (9, object): ['CVTP', 'Car Classic', 'Car Plus', 'Car Vintage', ..., 'CarSafe', 'Customized Motor', 'Motor Cycle', 'Muuve'] \n",
            "\n"
          ]
        }
      ],
      "source": [
        "# Check unique values for each categorical column\n",
        "for col in cat_cols:\n",
        "  print(col)\n",
        "  print(all_data[col].unique(), '\\n')"
      ]
    },
    {
      "cell_type": "markdown",
      "metadata": {
        "id": "2akc9eF-hsWo"
      },
      "source": [
        "### Filling in missing values\n",
        "#### Missing values can be filled using different strategies\n",
        "Tips:\n",
        " - Mean\n",
        " - Max\n",
        " - Min\n",
        " - [sklearn SimpleImputer](https://scikit-learn.org/stable/modules/generated/sklearn.impute.SimpleImputer.html)\n",
        " - Others... do more reasearch"
      ]
    },
    {
      "cell_type": "code",
      "execution_count": 48,
      "metadata": {
        "colab": {
          "base_uri": "https://localhost:8080/"
        },
        "id": "E61_c9DZYkuu",
        "outputId": "44b08ab0-3223-46f2-bc42-0a905a527883"
      },
      "outputs": [
        {
          "data": {
            "text/plain": [
              "Age                               0\n",
              "Car_Category_Bus                  0\n",
              "Car_Category_CAMRY CAR HIRE       0\n",
              "Car_Category_JEEP                 0\n",
              "Car_Category_Mini Bus             0\n",
              "                                 ..\n",
              "Subject_Car_Make_Volkswagen       0\n",
              "Subject_Car_Make_Volvo            0\n",
              "Subject_Car_Make_Wrangler Jeep    0\n",
              "Subject_Car_Make_Yamaha           0\n",
              "Subject_Car_Make_ZOYTE            0\n",
              "Length: 547, dtype: int64"
            ]
          },
          "execution_count": 48,
          "metadata": {},
          "output_type": "execute_result"
        }
      ],
      "source": [
        "# Fill in missing values\n",
        "# For cat cols and date cols fill in with mode and for num cols fill in with 9999\n",
        "for col in all_data.columns:\n",
        "  if col in date_cols+cat_cols:\n",
        "    all_data[col] = all_data[col].fillna(all_data[col].mode()[0])\n",
        "  elif col in num_cols:\n",
        "    all_data[col] = all_data[col].fillna(all_data[col].fillna(50))\n",
        "\n",
        "# Confirm that there aren't any missing values\n",
        "all_data[all_data.columns.difference(['target'])].isna().sum()"
      ]
    },
    {
      "cell_type": "markdown",
      "metadata": {
        "id": "Ppmv1kB5hvWs"
      },
      "source": [
        "### Feature Engineering\n",
        "#### Alot of features can be extracted from dates\n",
        "Tips:\n",
        " - Quarter, Start of Year, month?\n",
        " - Is it a weekend, weekday?\n",
        " - Is it a holiday\n",
        " - Duration between different periods, e.g start and end of a policy\n",
        " - What features can be derived from the age column\n",
        " - Be creative 😉"
      ]
    },
    {
      "cell_type": "code",
      "execution_count": 41,
      "metadata": {
        "colab": {
          "base_uri": "https://localhost:8080/",
          "height": 333
        },
        "id": "3ELOMgf3awEe",
        "outputId": "ad661bb6-4718-455e-84d2-ead392ed00c7"
      },
      "outputs": [
        {
          "data": {
            "text/html": [
              "<div>\n",
              "<style scoped>\n",
              "    .dataframe tbody tr th:only-of-type {\n",
              "        vertical-align: middle;\n",
              "    }\n",
              "\n",
              "    .dataframe tbody tr th {\n",
              "        vertical-align: top;\n",
              "    }\n",
              "\n",
              "    .dataframe thead th {\n",
              "        text-align: right;\n",
              "    }\n",
              "</style>\n",
              "<table border=\"1\" class=\"dataframe\">\n",
              "  <thead>\n",
              "    <tr style=\"text-align: right;\">\n",
              "      <th></th>\n",
              "      <th>ID</th>\n",
              "      <th>Policy Start Date</th>\n",
              "      <th>Policy End Date</th>\n",
              "      <th>Gender</th>\n",
              "      <th>Age</th>\n",
              "      <th>First Transaction Date</th>\n",
              "      <th>No_Pol</th>\n",
              "      <th>Car_Category</th>\n",
              "      <th>Subject_Car_Colour</th>\n",
              "      <th>Subject_Car_Make</th>\n",
              "      <th>...</th>\n",
              "      <th>target</th>\n",
              "      <th>Policy Start Dateyear</th>\n",
              "      <th>Policy Start Datemonth</th>\n",
              "      <th>Policy Start Dateday</th>\n",
              "      <th>Policy End Dateyear</th>\n",
              "      <th>Policy End Datemonth</th>\n",
              "      <th>Policy End Dateday</th>\n",
              "      <th>First Transaction Dateyear</th>\n",
              "      <th>First Transaction Datemonth</th>\n",
              "      <th>First Transaction Dateday</th>\n",
              "    </tr>\n",
              "  </thead>\n",
              "  <tbody>\n",
              "    <tr>\n",
              "      <th>0</th>\n",
              "      <td>ID_0040R73</td>\n",
              "      <td>2010-05-14</td>\n",
              "      <td>2011-05-13</td>\n",
              "      <td>Male</td>\n",
              "      <td>30</td>\n",
              "      <td>2010-05-14</td>\n",
              "      <td>1</td>\n",
              "      <td>Saloon</td>\n",
              "      <td>Black</td>\n",
              "      <td>TOYOTA</td>\n",
              "      <td>...</td>\n",
              "      <td>0.0</td>\n",
              "      <td>2010</td>\n",
              "      <td>5</td>\n",
              "      <td>14</td>\n",
              "      <td>2011</td>\n",
              "      <td>5</td>\n",
              "      <td>13</td>\n",
              "      <td>2010</td>\n",
              "      <td>5</td>\n",
              "      <td>14</td>\n",
              "    </tr>\n",
              "    <tr>\n",
              "      <th>1</th>\n",
              "      <td>ID_0046BNK</td>\n",
              "      <td>2010-11-29</td>\n",
              "      <td>2011-11-28</td>\n",
              "      <td>Female</td>\n",
              "      <td>79</td>\n",
              "      <td>2010-11-29</td>\n",
              "      <td>1</td>\n",
              "      <td>JEEP</td>\n",
              "      <td>Grey</td>\n",
              "      <td>TOYOTA</td>\n",
              "      <td>...</td>\n",
              "      <td>1.0</td>\n",
              "      <td>2010</td>\n",
              "      <td>11</td>\n",
              "      <td>29</td>\n",
              "      <td>2011</td>\n",
              "      <td>11</td>\n",
              "      <td>28</td>\n",
              "      <td>2010</td>\n",
              "      <td>11</td>\n",
              "      <td>29</td>\n",
              "    </tr>\n",
              "    <tr>\n",
              "      <th>2</th>\n",
              "      <td>ID_005QMC3</td>\n",
              "      <td>2010-03-21</td>\n",
              "      <td>2011-03-20</td>\n",
              "      <td>Male</td>\n",
              "      <td>43</td>\n",
              "      <td>2010-03-21</td>\n",
              "      <td>1</td>\n",
              "      <td>Saloon</td>\n",
              "      <td>Red</td>\n",
              "      <td>TOYOTA</td>\n",
              "      <td>...</td>\n",
              "      <td>0.0</td>\n",
              "      <td>2010</td>\n",
              "      <td>3</td>\n",
              "      <td>21</td>\n",
              "      <td>2011</td>\n",
              "      <td>3</td>\n",
              "      <td>20</td>\n",
              "      <td>2010</td>\n",
              "      <td>3</td>\n",
              "      <td>21</td>\n",
              "    </tr>\n",
              "    <tr>\n",
              "      <th>3</th>\n",
              "      <td>ID_0079OHW</td>\n",
              "      <td>2010-08-21</td>\n",
              "      <td>2011-08-20</td>\n",
              "      <td>Male</td>\n",
              "      <td>2</td>\n",
              "      <td>2010-08-21</td>\n",
              "      <td>1</td>\n",
              "      <td>Saloon</td>\n",
              "      <td>Black</td>\n",
              "      <td>TOYOTA</td>\n",
              "      <td>...</td>\n",
              "      <td>0.0</td>\n",
              "      <td>2010</td>\n",
              "      <td>8</td>\n",
              "      <td>21</td>\n",
              "      <td>2011</td>\n",
              "      <td>8</td>\n",
              "      <td>20</td>\n",
              "      <td>2010</td>\n",
              "      <td>8</td>\n",
              "      <td>21</td>\n",
              "    </tr>\n",
              "    <tr>\n",
              "      <th>4</th>\n",
              "      <td>ID_00BRP63</td>\n",
              "      <td>2010-08-29</td>\n",
              "      <td>2010-12-31</td>\n",
              "      <td>Other</td>\n",
              "      <td>20</td>\n",
              "      <td>2010-08-29</td>\n",
              "      <td>3</td>\n",
              "      <td>Saloon</td>\n",
              "      <td>Black</td>\n",
              "      <td>TOYOTA</td>\n",
              "      <td>...</td>\n",
              "      <td>1.0</td>\n",
              "      <td>2010</td>\n",
              "      <td>8</td>\n",
              "      <td>29</td>\n",
              "      <td>2010</td>\n",
              "      <td>12</td>\n",
              "      <td>31</td>\n",
              "      <td>2010</td>\n",
              "      <td>8</td>\n",
              "      <td>29</td>\n",
              "    </tr>\n",
              "  </tbody>\n",
              "</table>\n",
              "<p>5 rows × 23 columns</p>\n",
              "</div>"
            ],
            "text/plain": [
              "           ID Policy Start Date Policy End Date  Gender  Age  \\\n",
              "0  ID_0040R73        2010-05-14      2011-05-13    Male   30   \n",
              "1  ID_0046BNK        2010-11-29      2011-11-28  Female   79   \n",
              "2  ID_005QMC3        2010-03-21      2011-03-20    Male   43   \n",
              "3  ID_0079OHW        2010-08-21      2011-08-20    Male    2   \n",
              "4  ID_00BRP63        2010-08-29      2010-12-31   Other   20   \n",
              "\n",
              "  First Transaction Date  No_Pol Car_Category Subject_Car_Colour  \\\n",
              "0             2010-05-14       1       Saloon              Black   \n",
              "1             2010-11-29       1         JEEP               Grey   \n",
              "2             2010-03-21       1       Saloon                Red   \n",
              "3             2010-08-21       1       Saloon              Black   \n",
              "4             2010-08-29       3       Saloon              Black   \n",
              "\n",
              "  Subject_Car_Make  ... target Policy Start Dateyear Policy Start Datemonth  \\\n",
              "0           TOYOTA  ...    0.0                  2010                      5   \n",
              "1           TOYOTA  ...    1.0                  2010                     11   \n",
              "2           TOYOTA  ...    0.0                  2010                      3   \n",
              "3           TOYOTA  ...    0.0                  2010                      8   \n",
              "4           TOYOTA  ...    1.0                  2010                      8   \n",
              "\n",
              "   Policy Start Dateday  Policy End Dateyear  Policy End Datemonth  \\\n",
              "0                    14                 2011                     5   \n",
              "1                    29                 2011                    11   \n",
              "2                    21                 2011                     3   \n",
              "3                    21                 2011                     8   \n",
              "4                    29                 2010                    12   \n",
              "\n",
              "   Policy End Dateday  First Transaction Dateyear  \\\n",
              "0                  13                        2010   \n",
              "1                  28                        2010   \n",
              "2                  20                        2010   \n",
              "3                  20                        2010   \n",
              "4                  31                        2010   \n",
              "\n",
              "   First Transaction Datemonth  First Transaction Dateday  \n",
              "0                            5                         14  \n",
              "1                           11                         29  \n",
              "2                            3                         21  \n",
              "3                            8                         21  \n",
              "4                            8                         29  \n",
              "\n",
              "[5 rows x 23 columns]"
            ]
          },
          "execution_count": 41,
          "metadata": {},
          "output_type": "execute_result"
        }
      ],
      "source": [
        "# Extract date features from the date columns\n",
        "for col in date_cols:\n",
        "  for date_feature in ['year', 'month', 'day']:\n",
        "    all_data[col+date_feature] = getattr(all_data[col].dt, date_feature)\n",
        "\n",
        "all_data.head()"
      ]
    },
    {
      "cell_type": "markdown",
      "metadata": {
        "id": "XOnSMk9im9EC"
      },
      "source": [
        "#### Try different strategies of dealing with categorical variables\n",
        "Tips:\n",
        " - One hot encoding\n",
        " - Label encoding\n",
        " - Target encoding\n",
        " - Reduce the number of unique values..."
      ]
    },
    {
      "cell_type": "code",
      "execution_count": 49,
      "metadata": {
        "colab": {
          "base_uri": "https://localhost:8080/",
          "height": 362
        },
        "id": "hzZXqfvE22y9",
        "outputId": "422be2fb-2657-4d3a-c97a-5f81a2736170"
      },
      "outputs": [
        {
          "ename": "KeyError",
          "evalue": "\"None of [Index(['Gender', 'Car_Category', 'Subject_Car_Colour', 'Subject_Car_Make',\\n       'LGA_Name', 'State', 'ProductName'],\\n      dtype='object')] are in the [columns]\"",
          "output_type": "error",
          "traceback": [
            "\u001b[31m---------------------------------------------------------------------------\u001b[39m",
            "\u001b[31mKeyError\u001b[39m                                  Traceback (most recent call last)",
            "\u001b[36mCell\u001b[39m\u001b[36m \u001b[39m\u001b[32mIn[49]\u001b[39m\u001b[32m, line 2\u001b[39m\n\u001b[32m      1\u001b[39m \u001b[38;5;66;03m# Encode categorical features\u001b[39;00m\n\u001b[32m----> \u001b[39m\u001b[32m2\u001b[39m all_data = \u001b[43mpd\u001b[49m\u001b[43m.\u001b[49m\u001b[43mget_dummies\u001b[49m\u001b[43m(\u001b[49m\u001b[43mdata\u001b[49m\u001b[43m \u001b[49m\u001b[43m=\u001b[49m\u001b[43m \u001b[49m\u001b[43mall_data\u001b[49m\u001b[43m,\u001b[49m\u001b[43m \u001b[49m\u001b[43mcolumns\u001b[49m\u001b[43m \u001b[49m\u001b[43m=\u001b[49m\u001b[43m \u001b[49m\u001b[43mcat_cols\u001b[49m\u001b[43m)\u001b[49m\n\u001b[32m      3\u001b[39m all_data.head()\n",
            "\u001b[36mFile \u001b[39m\u001b[32m~/Desktop/claims_prediction_model/venv/lib/python3.13/site-packages/pandas/core/reshape/encoding.py:169\u001b[39m, in \u001b[36mget_dummies\u001b[39m\u001b[34m(data, prefix, prefix_sep, dummy_na, columns, sparse, drop_first, dtype)\u001b[39m\n\u001b[32m    167\u001b[39m     \u001b[38;5;28;01mraise\u001b[39;00m \u001b[38;5;167;01mTypeError\u001b[39;00m(\u001b[33m\"\u001b[39m\u001b[33mInput must be a list-like for parameter `columns`\u001b[39m\u001b[33m\"\u001b[39m)\n\u001b[32m    168\u001b[39m \u001b[38;5;28;01melse\u001b[39;00m:\n\u001b[32m--> \u001b[39m\u001b[32m169\u001b[39m     data_to_encode = \u001b[43mdata\u001b[49m\u001b[43m[\u001b[49m\u001b[43mcolumns\u001b[49m\u001b[43m]\u001b[49m\n\u001b[32m    171\u001b[39m \u001b[38;5;66;03m# validate prefixes and separator to avoid silently dropping cols\u001b[39;00m\n\u001b[32m    172\u001b[39m \u001b[38;5;28;01mdef\u001b[39;00m\u001b[38;5;250m \u001b[39m\u001b[34mcheck_len\u001b[39m(item, name: \u001b[38;5;28mstr\u001b[39m):\n",
            "\u001b[36mFile \u001b[39m\u001b[32m~/Desktop/claims_prediction_model/venv/lib/python3.13/site-packages/pandas/core/frame.py:4108\u001b[39m, in \u001b[36mDataFrame.__getitem__\u001b[39m\u001b[34m(self, key)\u001b[39m\n\u001b[32m   4106\u001b[39m     \u001b[38;5;28;01mif\u001b[39;00m is_iterator(key):\n\u001b[32m   4107\u001b[39m         key = \u001b[38;5;28mlist\u001b[39m(key)\n\u001b[32m-> \u001b[39m\u001b[32m4108\u001b[39m     indexer = \u001b[38;5;28;43mself\u001b[39;49m\u001b[43m.\u001b[49m\u001b[43mcolumns\u001b[49m\u001b[43m.\u001b[49m\u001b[43m_get_indexer_strict\u001b[49m\u001b[43m(\u001b[49m\u001b[43mkey\u001b[49m\u001b[43m,\u001b[49m\u001b[43m \u001b[49m\u001b[33;43m\"\u001b[39;49m\u001b[33;43mcolumns\u001b[39;49m\u001b[33;43m\"\u001b[39;49m\u001b[43m)\u001b[49m[\u001b[32m1\u001b[39m]\n\u001b[32m   4110\u001b[39m \u001b[38;5;66;03m# take() does not accept boolean indexers\u001b[39;00m\n\u001b[32m   4111\u001b[39m \u001b[38;5;28;01mif\u001b[39;00m \u001b[38;5;28mgetattr\u001b[39m(indexer, \u001b[33m\"\u001b[39m\u001b[33mdtype\u001b[39m\u001b[33m\"\u001b[39m, \u001b[38;5;28;01mNone\u001b[39;00m) == \u001b[38;5;28mbool\u001b[39m:\n",
            "\u001b[36mFile \u001b[39m\u001b[32m~/Desktop/claims_prediction_model/venv/lib/python3.13/site-packages/pandas/core/indexes/base.py:6200\u001b[39m, in \u001b[36mIndex._get_indexer_strict\u001b[39m\u001b[34m(self, key, axis_name)\u001b[39m\n\u001b[32m   6197\u001b[39m \u001b[38;5;28;01melse\u001b[39;00m:\n\u001b[32m   6198\u001b[39m     keyarr, indexer, new_indexer = \u001b[38;5;28mself\u001b[39m._reindex_non_unique(keyarr)\n\u001b[32m-> \u001b[39m\u001b[32m6200\u001b[39m \u001b[38;5;28;43mself\u001b[39;49m\u001b[43m.\u001b[49m\u001b[43m_raise_if_missing\u001b[49m\u001b[43m(\u001b[49m\u001b[43mkeyarr\u001b[49m\u001b[43m,\u001b[49m\u001b[43m \u001b[49m\u001b[43mindexer\u001b[49m\u001b[43m,\u001b[49m\u001b[43m \u001b[49m\u001b[43maxis_name\u001b[49m\u001b[43m)\u001b[49m\n\u001b[32m   6202\u001b[39m keyarr = \u001b[38;5;28mself\u001b[39m.take(indexer)\n\u001b[32m   6203\u001b[39m \u001b[38;5;28;01mif\u001b[39;00m \u001b[38;5;28misinstance\u001b[39m(key, Index):\n\u001b[32m   6204\u001b[39m     \u001b[38;5;66;03m# GH 42790 - Preserve name from an Index\u001b[39;00m\n",
            "\u001b[36mFile \u001b[39m\u001b[32m~/Desktop/claims_prediction_model/venv/lib/python3.13/site-packages/pandas/core/indexes/base.py:6249\u001b[39m, in \u001b[36mIndex._raise_if_missing\u001b[39m\u001b[34m(self, key, indexer, axis_name)\u001b[39m\n\u001b[32m   6247\u001b[39m \u001b[38;5;28;01mif\u001b[39;00m nmissing:\n\u001b[32m   6248\u001b[39m     \u001b[38;5;28;01mif\u001b[39;00m nmissing == \u001b[38;5;28mlen\u001b[39m(indexer):\n\u001b[32m-> \u001b[39m\u001b[32m6249\u001b[39m         \u001b[38;5;28;01mraise\u001b[39;00m \u001b[38;5;167;01mKeyError\u001b[39;00m(\u001b[33mf\u001b[39m\u001b[33m\"\u001b[39m\u001b[33mNone of [\u001b[39m\u001b[38;5;132;01m{\u001b[39;00mkey\u001b[38;5;132;01m}\u001b[39;00m\u001b[33m] are in the [\u001b[39m\u001b[38;5;132;01m{\u001b[39;00maxis_name\u001b[38;5;132;01m}\u001b[39;00m\u001b[33m]\u001b[39m\u001b[33m\"\u001b[39m)\n\u001b[32m   6251\u001b[39m     not_found = \u001b[38;5;28mlist\u001b[39m(ensure_index(key)[missing_mask.nonzero()[\u001b[32m0\u001b[39m]].unique())\n\u001b[32m   6252\u001b[39m     \u001b[38;5;28;01mraise\u001b[39;00m \u001b[38;5;167;01mKeyError\u001b[39;00m(\u001b[33mf\u001b[39m\u001b[33m\"\u001b[39m\u001b[38;5;132;01m{\u001b[39;00mnot_found\u001b[38;5;132;01m}\u001b[39;00m\u001b[33m not in index\u001b[39m\u001b[33m\"\u001b[39m)\n",
            "\u001b[31mKeyError\u001b[39m: \"None of [Index(['Gender', 'Car_Category', 'Subject_Car_Colour', 'Subject_Car_Make',\\n       'LGA_Name', 'State', 'ProductName'],\\n      dtype='object')] are in the [columns]\""
          ]
        }
      ],
      "source": [
        "# Encode categorical features\n",
        "all_data = pd.get_dummies(data = all_data, columns = cat_cols)\n",
        "all_data.head()"
      ]
    },
    {
      "cell_type": "code",
      "execution_count": 43,
      "metadata": {
        "colab": {
          "base_uri": "https://localhost:8080/"
        },
        "id": "BibprFWLdRAy",
        "outputId": "f48a22bd-dee0-4be3-e103-ffc34bb43b62"
      },
      "outputs": [
        {
          "data": {
            "text/plain": [
              "((12079, 548), (1202, 548))"
            ]
          },
          "execution_count": 43,
          "metadata": {},
          "output_type": "execute_result"
        }
      ],
      "source": [
        "# Separate train and test data from the combined dataframe\n",
        "train_df = all_data[:ntrain]\n",
        "test_df = all_data[ntrain:]\n",
        "\n",
        "# Check the shapes of the split dataset\n",
        "train_df.shape, test_df.shape"
      ]
    },
    {
      "cell_type": "markdown",
      "metadata": {
        "id": "Rv9axjwXh2Ij"
      },
      "source": [
        "### Training and making predictions\n",
        "Tips:\n",
        "- Is lgbm the best model for this challenge?\n",
        "- Parameter tuning\n",
        " - Grid search, random search, perhaps bayesian search works better...\n",
        "\n"
      ]
    },
    {
      "cell_type": "code",
      "execution_count": 47,
      "metadata": {
        "colab": {
          "base_uri": "https://localhost:8080/"
        },
        "id": "w0EL1Fk222y-",
        "outputId": "7c5142f0-8ed0-4a67-a5da-e930abe0b8f7"
      },
      "outputs": [
        {
          "name": "stdout",
          "output_type": "stream",
          "text": [
            "F1 score on the X_test is: 0.18424962852897475\n"
          ]
        }
      ],
      "source": [
        "# Select main columns to be used in training\n",
        "main_cols = all_data.columns.difference(date_cols+['ID', 'target'])\n",
        "X = train_df[main_cols]\n",
        "y = train_df.target\n",
        "\n",
        "# Split data into train and test sets\n",
        "X_train, X_test, y_train, y_test = train_test_split(X,y,test_size=0.3, random_state=42)\n",
        "\n",
        "# Train model\n",
        "model = RandomForestClassifier()\n",
        "model.fit(X_train, y_train)\n",
        "\n",
        "# Make predictions\n",
        "y_pred = model.predict(X_test)\n",
        "\n",
        "# Check the f1 score of the model\n",
        "print(f'F1 score on the X_test is: {f1_score(y_test, y_pred)}')"
      ]
    },
    {
      "cell_type": "markdown",
      "metadata": {
        "id": "WZ6h0Ho3qOCV"
      },
      "source": [
        "#### [More on F1 Score](https://en.wikipedia.org/wiki/F-score)"
      ]
    },
    {
      "cell_type": "markdown",
      "metadata": {
        "id": "k_LHEtrph7Kk"
      },
      "source": [
        "### Making predictions of the test set and creating a submission file"
      ]
    },
    {
      "cell_type": "code",
      "execution_count": null,
      "metadata": {
        "colab": {
          "base_uri": "https://localhost:8080/",
          "height": 265
        },
        "id": "OP8EX6NZfSCP",
        "outputId": "cfdc1bfb-8f7a-40b3-9a6a-6613b7b3193b"
      },
      "outputs": [],
      "source": [
        "# Make prediction on the test set\n",
        "test_df = test_df[main_cols]\n",
        "predictions = model.predict(test_df)\n",
        "\n",
        "# Create a submission file\n",
        "sub_file = ss.copy()\n",
        "sub_file.predictions = predictions\n",
        "\n",
        "# Check the distribution of your predictions\n",
        "sns.countplot(sub_file.predictions);"
      ]
    },
    {
      "cell_type": "code",
      "execution_count": null,
      "metadata": {
        "id": "sm_jTS4022y-"
      },
      "outputs": [],
      "source": [
        "# Create a csv file and upload to zindi \n",
        "sub_file.to_csv('Baseline.csv', index = False)"
      ]
    },
    {
      "cell_type": "markdown",
      "metadata": {
        "id": "ttQqWBi722zE"
      },
      "source": [
        "###More Tips\n",
        "- Thorough EDA and domain knowledge sourcing\n",
        "- Re-group Categorical features \n",
        "- More Feature Engineering \n",
        "- Dataset balancing - oversampling, undersampling, SMOTE...\n",
        "- Ensembling of models \n",
        "- Cross-validation: Group folds, Stratified..."
      ]
    },
    {
      "cell_type": "markdown",
      "metadata": {
        "id": "uXftXbo622zF"
      },
      "source": [
        "# ******************* GOOD LUCK!!! ***************************"
      ]
    }
  ],
  "metadata": {
    "colab": {
      "collapsed_sections": [],
      "name": "AXA-Python_StarterNotebook.ipynb",
      "provenance": []
    },
    "kernelspec": {
      "display_name": "venv",
      "language": "python",
      "name": "python3"
    },
    "language_info": {
      "codemirror_mode": {
        "name": "ipython",
        "version": 3
      },
      "file_extension": ".py",
      "mimetype": "text/x-python",
      "name": "python",
      "nbconvert_exporter": "python",
      "pygments_lexer": "ipython3",
      "version": "3.13.2"
    }
  },
  "nbformat": 4,
  "nbformat_minor": 0
}
